{
  "nbformat": 4,
  "nbformat_minor": 0,
  "metadata": {
    "kernelspec": {
      "display_name": "Python 3",
      "language": "python",
      "name": "python3"
    },
    "language_info": {
      "codemirror_mode": {
        "name": "ipython",
        "version": 3
      },
      "file_extension": ".py",
      "mimetype": "text/x-python",
      "name": "python",
      "nbconvert_exporter": "python",
      "pygments_lexer": "ipython3",
      "version": "3.6.8"
    },
    "colab": {
      "name": "DATA 301 Project - Data Model.ipynb",
      "provenance": [],
      "collapsed_sections": []
    }
  },
  "cells": [
    {
      "cell_type": "markdown",
      "metadata": {
        "id": "syVsypEiF_1W",
        "colab_type": "text"
      },
      "source": [
        "**Finding a model**\n",
        "\n",
        "Let's find out if we can get a model that predicts what level of happiness someone claims. I will be looking at all of the elements that I looked at in previous sections. I predict that income and social level will be integral,  but we'll find out."
      ]
    },
    {
      "cell_type": "code",
      "metadata": {
        "id": "CsT5EXXDGP1C",
        "colab_type": "code",
        "colab": {}
      },
      "source": [
        "import pandas as pd\n",
        "import numpy as np\n",
        "from sklearn.neighbors import KNeighborsRegressor\n",
        "from sklearn.feature_extraction.text import CountVectorizer, TfidfVectorizer\n",
        "from sklearn.compose import make_column_transformer\n",
        "from sklearn.preprocessing import StandardScaler, OneHotEncoder\n",
        "from sklearn.pipeline import make_pipeline\n",
        "from sklearn.model_selection import cross_val_score\n",
        "from sklearn.preprocessing import MaxAbsScaler\n",
        "from sklearn.preprocessing import StandardScaler\n",
        "from sklearn.preprocessing import MinMaxScaler\n",
        "from sklearn.neighbors import KNeighborsClassifier\n",
        "from sklearn.metrics import f1_score\n",
        "\n",
        "df_happy = pd.read_csv('happy.csv')\n",
        "df_jobs = pd.read_csv('jobs.csv')\n",
        "df_social = pd.read_csv('social.csv')\n",
        "df_internet = pd.read_csv('internet.csv')"
      ],
      "execution_count": 0,
      "outputs": []
    },
    {
      "cell_type": "code",
      "metadata": {
        "id": "qPAFxd4NSuz1",
        "colab_type": "code",
        "outputId": "55d6daaf-8cbb-4205-803a-6d80d1043c5d",
        "colab": {
          "base_uri": "https://localhost:8080/",
          "height": 54
        }
      },
      "source": [
        "len(df_happy)"
      ],
      "execution_count": 4,
      "outputs": [
        {
          "output_type": "execute_result",
          "data": {
            "text/plain": [
              "64816"
            ]
          },
          "metadata": {
            "tags": []
          },
          "execution_count": 4
        }
      ]
    },
    {
      "cell_type": "code",
      "metadata": {
        "id": "7PtabnUSRtMA",
        "colab_type": "code",
        "colab": {}
      },
      "source": [
        "df_happy = df_happy[df_happy['General happiness'] != 'Don\\'t know']"
      ],
      "execution_count": 0,
      "outputs": []
    },
    {
      "cell_type": "code",
      "metadata": {
        "id": "cYjyqOkIR1TX",
        "colab_type": "code",
        "outputId": "eb4117dd-9af6-410a-b198-e2f63001f3c3",
        "colab": {
          "base_uri": "https://localhost:8080/",
          "height": 54
        }
      },
      "source": [
        "len(df_happy)"
      ],
      "execution_count": 0,
      "outputs": [
        {
          "output_type": "execute_result",
          "data": {
            "text/plain": [
              "64777"
            ]
          },
          "metadata": {
            "tags": []
          },
          "execution_count": 13
        }
      ]
    },
    {
      "cell_type": "markdown",
      "metadata": {
        "id": "QHqcqtZgVTgs",
        "colab_type": "text"
      },
      "source": [
        "I'll start out with the basics. I'll optimize a 20-nearest neighbors classifier with the features that I studied in exploration."
      ]
    },
    {
      "cell_type": "code",
      "metadata": {
        "id": "QDVPQwFDM935",
        "colab_type": "code",
        "outputId": "522d9368-c9f9-40d6-ac2f-87a4dd58fae8",
        "colab": {
          "base_uri": "https://localhost:8080/",
          "height": 120
        }
      },
      "source": [
        "df_happy['Satisfaction with financial situation'].value_counts()"
      ],
      "execution_count": 4,
      "outputs": [
        {
          "output_type": "execute_result",
          "data": {
            "text/plain": [
              "More or less      26606\n",
              "Satisfied         17588\n",
              "Not at all sat    15953\n",
              "Don't know          116\n",
              "Name: Satisfaction with financial situation, dtype: int64"
            ]
          },
          "metadata": {
            "tags": []
          },
          "execution_count": 4
        }
      ]
    },
    {
      "cell_type": "code",
      "metadata": {
        "id": "WSgZbdrtWVwg",
        "colab_type": "code",
        "outputId": "b724e7ef-f487-486d-ae32-e7f6ca8920e6",
        "colab": {
          "base_uri": "https://localhost:8080/",
          "height": 54
        }
      },
      "source": [
        "len(df_jobs)"
      ],
      "execution_count": 0,
      "outputs": [
        {
          "output_type": "execute_result",
          "data": {
            "text/plain": [
              "37887"
            ]
          },
          "metadata": {
            "tags": []
          },
          "execution_count": 15
        }
      ]
    },
    {
      "cell_type": "code",
      "metadata": {
        "id": "sGLiDpWCWX4f",
        "colab_type": "code",
        "outputId": "4d7c8b68-1ffc-474c-b7b5-33082c955f9b",
        "colab": {
          "base_uri": "https://localhost:8080/",
          "height": 54
        }
      },
      "source": [
        "len(df_social)"
      ],
      "execution_count": 0,
      "outputs": [
        {
          "output_type": "execute_result",
          "data": {
            "text/plain": [
              "13430"
            ]
          },
          "metadata": {
            "tags": []
          },
          "execution_count": 16
        }
      ]
    },
    {
      "cell_type": "code",
      "metadata": {
        "id": "tYfsXKbEWbHN",
        "colab_type": "code",
        "outputId": "44337ff7-d69c-4625-8e1d-b3e79adda782",
        "colab": {
          "base_uri": "https://localhost:8080/",
          "height": 54
        }
      },
      "source": [
        "len(df_internet)"
      ],
      "execution_count": 0,
      "outputs": [
        {
          "output_type": "execute_result",
          "data": {
            "text/plain": [
              "606"
            ]
          },
          "metadata": {
            "tags": []
          },
          "execution_count": 17
        }
      ]
    },
    {
      "cell_type": "markdown",
      "metadata": {
        "id": "SeSEH5hRWleu",
        "colab_type": "text"
      },
      "source": [
        "If possible, I'd like to avoid using features from df_internet just because significantly less data is available."
      ]
    },
    {
      "cell_type": "code",
      "metadata": {
        "id": "tIK4LbiMDtqi",
        "colab_type": "code",
        "outputId": "11dbe395-cb1d-46ea-dba7-6ccba184e94c",
        "colab": {
          "base_uri": "https://localhost:8080/",
          "height": 664
        }
      },
      "source": [
        "df_happy"
      ],
      "execution_count": 5,
      "outputs": [
        {
          "output_type": "execute_result",
          "data": {
            "text/html": [
              "<div>\n",
              "<style scoped>\n",
              "    .dataframe tbody tr th:only-of-type {\n",
              "        vertical-align: middle;\n",
              "    }\n",
              "\n",
              "    .dataframe tbody tr th {\n",
              "        vertical-align: top;\n",
              "    }\n",
              "\n",
              "    .dataframe thead th {\n",
              "        text-align: right;\n",
              "    }\n",
              "</style>\n",
              "<table border=\"1\" class=\"dataframe\">\n",
              "  <thead>\n",
              "    <tr style=\"text-align: right;\">\n",
              "      <th></th>\n",
              "      <th>Unnamed: 0</th>\n",
              "      <th>index</th>\n",
              "      <th>Standard of living of r will improve</th>\n",
              "      <th>How much time felt sad in past wk</th>\n",
              "      <th>How much time felt happy in past wk</th>\n",
              "      <th>How much time felt depressed in past wk</th>\n",
              "      <th>I expect more good things to happen to me than bad</th>\n",
              "      <th>I'm always optimistic about my future</th>\n",
              "      <th>Happiness of marriage</th>\n",
              "      <th>General happiness</th>\n",
              "      <th>Satisfaction with financial situation</th>\n",
              "      <th>Rs self ranking of social position</th>\n",
              "      <th>Is life exciting or dull</th>\n",
              "      <th>year</th>\n",
              "    </tr>\n",
              "  </thead>\n",
              "  <tbody>\n",
              "    <tr>\n",
              "      <th>0</th>\n",
              "      <td>0</td>\n",
              "      <td>0</td>\n",
              "      <td>NaN</td>\n",
              "      <td>NaN</td>\n",
              "      <td>NaN</td>\n",
              "      <td>NaN</td>\n",
              "      <td>NaN</td>\n",
              "      <td>NaN</td>\n",
              "      <td>NaN</td>\n",
              "      <td>Not too happy</td>\n",
              "      <td>Not at all sat</td>\n",
              "      <td>NaN</td>\n",
              "      <td>NaN</td>\n",
              "      <td>1972.0</td>\n",
              "    </tr>\n",
              "    <tr>\n",
              "      <th>1</th>\n",
              "      <td>1</td>\n",
              "      <td>1</td>\n",
              "      <td>NaN</td>\n",
              "      <td>NaN</td>\n",
              "      <td>NaN</td>\n",
              "      <td>NaN</td>\n",
              "      <td>NaN</td>\n",
              "      <td>NaN</td>\n",
              "      <td>NaN</td>\n",
              "      <td>Not too happy</td>\n",
              "      <td>More or less</td>\n",
              "      <td>NaN</td>\n",
              "      <td>NaN</td>\n",
              "      <td>1972.0</td>\n",
              "    </tr>\n",
              "    <tr>\n",
              "      <th>2</th>\n",
              "      <td>2</td>\n",
              "      <td>2</td>\n",
              "      <td>NaN</td>\n",
              "      <td>NaN</td>\n",
              "      <td>NaN</td>\n",
              "      <td>NaN</td>\n",
              "      <td>NaN</td>\n",
              "      <td>NaN</td>\n",
              "      <td>NaN</td>\n",
              "      <td>Pretty happy</td>\n",
              "      <td>Satisfied</td>\n",
              "      <td>NaN</td>\n",
              "      <td>NaN</td>\n",
              "      <td>1972.0</td>\n",
              "    </tr>\n",
              "    <tr>\n",
              "      <th>3</th>\n",
              "      <td>3</td>\n",
              "      <td>3</td>\n",
              "      <td>NaN</td>\n",
              "      <td>NaN</td>\n",
              "      <td>NaN</td>\n",
              "      <td>NaN</td>\n",
              "      <td>NaN</td>\n",
              "      <td>NaN</td>\n",
              "      <td>NaN</td>\n",
              "      <td>Not too happy</td>\n",
              "      <td>Not at all sat</td>\n",
              "      <td>NaN</td>\n",
              "      <td>NaN</td>\n",
              "      <td>1972.0</td>\n",
              "    </tr>\n",
              "    <tr>\n",
              "      <th>4</th>\n",
              "      <td>4</td>\n",
              "      <td>4</td>\n",
              "      <td>NaN</td>\n",
              "      <td>NaN</td>\n",
              "      <td>NaN</td>\n",
              "      <td>NaN</td>\n",
              "      <td>NaN</td>\n",
              "      <td>NaN</td>\n",
              "      <td>NaN</td>\n",
              "      <td>Pretty happy</td>\n",
              "      <td>Satisfied</td>\n",
              "      <td>NaN</td>\n",
              "      <td>NaN</td>\n",
              "      <td>1972.0</td>\n",
              "    </tr>\n",
              "    <tr>\n",
              "      <th>...</th>\n",
              "      <td>...</td>\n",
              "      <td>...</td>\n",
              "      <td>...</td>\n",
              "      <td>...</td>\n",
              "      <td>...</td>\n",
              "      <td>...</td>\n",
              "      <td>...</td>\n",
              "      <td>...</td>\n",
              "      <td>...</td>\n",
              "      <td>...</td>\n",
              "      <td>...</td>\n",
              "      <td>...</td>\n",
              "      <td>...</td>\n",
              "      <td>...</td>\n",
              "    </tr>\n",
              "    <tr>\n",
              "      <th>64811</th>\n",
              "      <td>64811</td>\n",
              "      <td>64811</td>\n",
              "      <td>Neither</td>\n",
              "      <td>NaN</td>\n",
              "      <td>NaN</td>\n",
              "      <td>NaN</td>\n",
              "      <td>NaN</td>\n",
              "      <td>NaN</td>\n",
              "      <td>Very happy</td>\n",
              "      <td>Very happy</td>\n",
              "      <td>Satisfied</td>\n",
              "      <td>4</td>\n",
              "      <td>Routine</td>\n",
              "      <td>2018.0</td>\n",
              "    </tr>\n",
              "    <tr>\n",
              "      <th>64812</th>\n",
              "      <td>64812</td>\n",
              "      <td>64812</td>\n",
              "      <td>Disagree</td>\n",
              "      <td>NaN</td>\n",
              "      <td>NaN</td>\n",
              "      <td>NaN</td>\n",
              "      <td>NaN</td>\n",
              "      <td>NaN</td>\n",
              "      <td>Very happy</td>\n",
              "      <td>Very happy</td>\n",
              "      <td>More or less</td>\n",
              "      <td>3</td>\n",
              "      <td>NaN</td>\n",
              "      <td>2018.0</td>\n",
              "    </tr>\n",
              "    <tr>\n",
              "      <th>64813</th>\n",
              "      <td>64813</td>\n",
              "      <td>64813</td>\n",
              "      <td>NaN</td>\n",
              "      <td>NaN</td>\n",
              "      <td>NaN</td>\n",
              "      <td>NaN</td>\n",
              "      <td>NaN</td>\n",
              "      <td>NaN</td>\n",
              "      <td>NaN</td>\n",
              "      <td>Very happy</td>\n",
              "      <td>More or less</td>\n",
              "      <td>5</td>\n",
              "      <td>Routine</td>\n",
              "      <td>2018.0</td>\n",
              "    </tr>\n",
              "    <tr>\n",
              "      <th>64814</th>\n",
              "      <td>64814</td>\n",
              "      <td>64814</td>\n",
              "      <td>NaN</td>\n",
              "      <td>NaN</td>\n",
              "      <td>NaN</td>\n",
              "      <td>NaN</td>\n",
              "      <td>NaN</td>\n",
              "      <td>NaN</td>\n",
              "      <td>NaN</td>\n",
              "      <td>NaN</td>\n",
              "      <td>NaN</td>\n",
              "      <td>NaN</td>\n",
              "      <td>NaN</td>\n",
              "      <td>NaN</td>\n",
              "    </tr>\n",
              "    <tr>\n",
              "      <th>64815</th>\n",
              "      <td>64815</td>\n",
              "      <td>64815</td>\n",
              "      <td>NaN</td>\n",
              "      <td>NaN</td>\n",
              "      <td>NaN</td>\n",
              "      <td>NaN</td>\n",
              "      <td>NaN</td>\n",
              "      <td>NaN</td>\n",
              "      <td>NaN</td>\n",
              "      <td>NaN</td>\n",
              "      <td>NaN</td>\n",
              "      <td>NaN</td>\n",
              "      <td>NaN</td>\n",
              "      <td>NaN</td>\n",
              "    </tr>\n",
              "  </tbody>\n",
              "</table>\n",
              "<p>64777 rows × 14 columns</p>\n",
              "</div>"
            ],
            "text/plain": [
              "       Unnamed: 0  index  ... Is life exciting or dull    year\n",
              "0               0      0  ...                      NaN  1972.0\n",
              "1               1      1  ...                      NaN  1972.0\n",
              "2               2      2  ...                      NaN  1972.0\n",
              "3               3      3  ...                      NaN  1972.0\n",
              "4               4      4  ...                      NaN  1972.0\n",
              "...           ...    ...  ...                      ...     ...\n",
              "64811       64811  64811  ...                  Routine  2018.0\n",
              "64812       64812  64812  ...                      NaN  2018.0\n",
              "64813       64813  64813  ...                  Routine  2018.0\n",
              "64814       64814  64814  ...                      NaN     NaN\n",
              "64815       64815  64815  ...                      NaN     NaN\n",
              "\n",
              "[64777 rows x 14 columns]"
            ]
          },
          "metadata": {
            "tags": []
          },
          "execution_count": 5
        }
      ]
    },
    {
      "cell_type": "code",
      "metadata": {
        "id": "BAeTsbW-WxHR",
        "colab_type": "code",
        "colab": {}
      },
      "source": [
        "df_happy = df_happy[(df_happy['year'].notna()) &\n",
        "         (df_happy['Satisfaction with financial situation'].notna()) &\n",
        "         (df_happy['General happiness'].notna())]"
      ],
      "execution_count": 0,
      "outputs": []
    },
    {
      "cell_type": "code",
      "metadata": {
        "id": "LTv3dPL_3Z4d",
        "colab_type": "code",
        "colab": {}
      },
      "source": [
        "y_train = df_happy['General happiness']"
      ],
      "execution_count": 0,
      "outputs": []
    },
    {
      "cell_type": "code",
      "metadata": {
        "id": "3IcQNJlQN9Kx",
        "colab_type": "code",
        "outputId": "add7e3ce-6773-4a35-a03e-befeb576ce52",
        "colab": {
          "base_uri": "https://localhost:8080/",
          "height": 1000
        }
      },
      "source": [
        "# calculate estimate of test error for a given feature set\n",
        "def get_cv_error(features, clss):\n",
        "  # define pipeline\n",
        "  if len(features) == 1 and features == ['year']:\n",
        "    ct = make_column_transformer(\n",
        "        (OneHotEncoder(handle_unknown='ignore'), [\"year\"]),\n",
        "        remainder=\"passthrough\"\n",
        "    )\n",
        "  if len(features) == 1 and features != ['year']:\n",
        "    ct = make_column_transformer(\n",
        "        (OneHotEncoder(handle_unknown='ignore'), [\"Satisfaction with financial situation\"]),\n",
        "        remainder=\"passthrough\"\n",
        "    )\n",
        "  if len(features) == 2:\n",
        "    ct = make_column_transformer(\n",
        "        (OneHotEncoder(handle_unknown='ignore'), [\"year\", \"Satisfaction with financial situation\"]),\n",
        "        remainder=\"passthrough\"\n",
        "    )\n",
        "\n",
        "  pipeline = make_pipeline(\n",
        "      ct,\n",
        "      KNeighborsClassifier(n_neighbors=10)\n",
        "  )\n",
        "\n",
        "  is_class = (y_train == clss)\n",
        "  # calculate errors from cross-validation\n",
        "  recall = cross_val_score(pipeline, df_happy[features],\n",
        "                is_class, cv=10, scoring=\"recall\").mean()\n",
        "  precision = cross_val_score(pipeline, df_happy[features],\n",
        "                is_class, cv=10, scoring=\"precision\").mean()\n",
        "  # calculate average of the cross-validation errors\n",
        "  return (precision, recall, 2 * (precision * recall) / (precision + recall))\n",
        "\n",
        "# calculate and store errors for different feature sets\n",
        "errs = pd.Series()\n",
        "classes = ['Not too happy','Pretty happy', 'Very happy']\n",
        "for clss in classes:\n",
        "  for features in [[\"year\"],\n",
        "                   [\"Satisfaction with financial situation\"],\n",
        "                  [\"year\", \"Satisfaction with financial situation\"]]:\n",
        "    errs[clss + \", \" + str(features)] = get_cv_error(features, clss)\n",
        "\n",
        "errs"
      ],
      "execution_count": 36,
      "outputs": [
        {
          "output_type": "stream",
          "text": [
            "hello\n"
          ],
          "name": "stdout"
        },
        {
          "output_type": "stream",
          "text": [
            "/usr/local/lib/python3.6/dist-packages/sklearn/metrics/_classification.py:1272: UndefinedMetricWarning: Precision is ill-defined and being set to 0.0 due to no predicted samples. Use `zero_division` parameter to control this behavior.\n",
            "  _warn_prf(average, modifier, msg_start, len(result))\n",
            "/usr/local/lib/python3.6/dist-packages/sklearn/metrics/_classification.py:1272: UndefinedMetricWarning: Precision is ill-defined and being set to 0.0 due to no predicted samples. Use `zero_division` parameter to control this behavior.\n",
            "  _warn_prf(average, modifier, msg_start, len(result))\n",
            "/usr/local/lib/python3.6/dist-packages/sklearn/metrics/_classification.py:1272: UndefinedMetricWarning: Precision is ill-defined and being set to 0.0 due to no predicted samples. Use `zero_division` parameter to control this behavior.\n",
            "  _warn_prf(average, modifier, msg_start, len(result))\n",
            "/usr/local/lib/python3.6/dist-packages/sklearn/metrics/_classification.py:1272: UndefinedMetricWarning: Precision is ill-defined and being set to 0.0 due to no predicted samples. Use `zero_division` parameter to control this behavior.\n",
            "  _warn_prf(average, modifier, msg_start, len(result))\n",
            "/usr/local/lib/python3.6/dist-packages/sklearn/metrics/_classification.py:1272: UndefinedMetricWarning: Precision is ill-defined and being set to 0.0 due to no predicted samples. Use `zero_division` parameter to control this behavior.\n",
            "  _warn_prf(average, modifier, msg_start, len(result))\n"
          ],
          "name": "stderr"
        },
        {
          "output_type": "stream",
          "text": [
            "hello\n"
          ],
          "name": "stdout"
        },
        {
          "output_type": "stream",
          "text": [
            "/usr/local/lib/python3.6/dist-packages/sklearn/metrics/_classification.py:1272: UndefinedMetricWarning: Precision is ill-defined and being set to 0.0 due to no predicted samples. Use `zero_division` parameter to control this behavior.\n",
            "  _warn_prf(average, modifier, msg_start, len(result))\n",
            "/usr/local/lib/python3.6/dist-packages/sklearn/metrics/_classification.py:1272: UndefinedMetricWarning: Precision is ill-defined and being set to 0.0 due to no predicted samples. Use `zero_division` parameter to control this behavior.\n",
            "  _warn_prf(average, modifier, msg_start, len(result))\n",
            "/usr/local/lib/python3.6/dist-packages/sklearn/metrics/_classification.py:1272: UndefinedMetricWarning: Precision is ill-defined and being set to 0.0 due to no predicted samples. Use `zero_division` parameter to control this behavior.\n",
            "  _warn_prf(average, modifier, msg_start, len(result))\n",
            "/usr/local/lib/python3.6/dist-packages/sklearn/metrics/_classification.py:1272: UndefinedMetricWarning: Precision is ill-defined and being set to 0.0 due to no predicted samples. Use `zero_division` parameter to control this behavior.\n",
            "  _warn_prf(average, modifier, msg_start, len(result))\n",
            "/usr/local/lib/python3.6/dist-packages/sklearn/metrics/_classification.py:1272: UndefinedMetricWarning: Precision is ill-defined and being set to 0.0 due to no predicted samples. Use `zero_division` parameter to control this behavior.\n",
            "  _warn_prf(average, modifier, msg_start, len(result))\n",
            "/usr/local/lib/python3.6/dist-packages/sklearn/metrics/_classification.py:1272: UndefinedMetricWarning: Precision is ill-defined and being set to 0.0 due to no predicted samples. Use `zero_division` parameter to control this behavior.\n",
            "  _warn_prf(average, modifier, msg_start, len(result))\n",
            "/usr/local/lib/python3.6/dist-packages/sklearn/metrics/_classification.py:1272: UndefinedMetricWarning: Precision is ill-defined and being set to 0.0 due to no predicted samples. Use `zero_division` parameter to control this behavior.\n",
            "  _warn_prf(average, modifier, msg_start, len(result))\n",
            "/usr/local/lib/python3.6/dist-packages/sklearn/metrics/_classification.py:1272: UndefinedMetricWarning: Precision is ill-defined and being set to 0.0 due to no predicted samples. Use `zero_division` parameter to control this behavior.\n",
            "  _warn_prf(average, modifier, msg_start, len(result))\n",
            "/usr/local/lib/python3.6/dist-packages/sklearn/metrics/_classification.py:1272: UndefinedMetricWarning: Precision is ill-defined and being set to 0.0 due to no predicted samples. Use `zero_division` parameter to control this behavior.\n",
            "  _warn_prf(average, modifier, msg_start, len(result))\n",
            "/usr/local/lib/python3.6/dist-packages/sklearn/metrics/_classification.py:1272: UndefinedMetricWarning: Precision is ill-defined and being set to 0.0 due to no predicted samples. Use `zero_division` parameter to control this behavior.\n",
            "  _warn_prf(average, modifier, msg_start, len(result))\n",
            "/usr/local/lib/python3.6/dist-packages/ipykernel_launcher.py:32: RuntimeWarning: invalid value encountered in double_scalars\n"
          ],
          "name": "stderr"
        },
        {
          "output_type": "stream",
          "text": [
            "hello\n"
          ],
          "name": "stdout"
        },
        {
          "output_type": "stream",
          "text": [
            "/usr/local/lib/python3.6/dist-packages/sklearn/metrics/_classification.py:1272: UndefinedMetricWarning: Precision is ill-defined and being set to 0.0 due to no predicted samples. Use `zero_division` parameter to control this behavior.\n",
            "  _warn_prf(average, modifier, msg_start, len(result))\n",
            "/usr/local/lib/python3.6/dist-packages/sklearn/metrics/_classification.py:1272: UndefinedMetricWarning: Precision is ill-defined and being set to 0.0 due to no predicted samples. Use `zero_division` parameter to control this behavior.\n",
            "  _warn_prf(average, modifier, msg_start, len(result))\n"
          ],
          "name": "stderr"
        },
        {
          "output_type": "stream",
          "text": [
            "hello\n"
          ],
          "name": "stdout"
        },
        {
          "output_type": "stream",
          "text": [
            "/usr/local/lib/python3.6/dist-packages/sklearn/metrics/_classification.py:1272: UndefinedMetricWarning: Precision is ill-defined and being set to 0.0 due to no predicted samples. Use `zero_division` parameter to control this behavior.\n",
            "  _warn_prf(average, modifier, msg_start, len(result))\n",
            "/usr/local/lib/python3.6/dist-packages/sklearn/metrics/_classification.py:1272: UndefinedMetricWarning: Precision is ill-defined and being set to 0.0 due to no predicted samples. Use `zero_division` parameter to control this behavior.\n",
            "  _warn_prf(average, modifier, msg_start, len(result))\n"
          ],
          "name": "stderr"
        },
        {
          "output_type": "stream",
          "text": [
            "hello\n"
          ],
          "name": "stdout"
        },
        {
          "output_type": "stream",
          "text": [
            "/usr/local/lib/python3.6/dist-packages/sklearn/metrics/_classification.py:1272: UndefinedMetricWarning: Precision is ill-defined and being set to 0.0 due to no predicted samples. Use `zero_division` parameter to control this behavior.\n",
            "  _warn_prf(average, modifier, msg_start, len(result))\n"
          ],
          "name": "stderr"
        },
        {
          "output_type": "stream",
          "text": [
            "hello\n",
            "hello\n"
          ],
          "name": "stdout"
        },
        {
          "output_type": "stream",
          "text": [
            "/usr/local/lib/python3.6/dist-packages/sklearn/metrics/_classification.py:1272: UndefinedMetricWarning: Precision is ill-defined and being set to 0.0 due to no predicted samples. Use `zero_division` parameter to control this behavior.\n",
            "  _warn_prf(average, modifier, msg_start, len(result))\n",
            "/usr/local/lib/python3.6/dist-packages/sklearn/metrics/_classification.py:1272: UndefinedMetricWarning: Precision is ill-defined and being set to 0.0 due to no predicted samples. Use `zero_division` parameter to control this behavior.\n",
            "  _warn_prf(average, modifier, msg_start, len(result))\n",
            "/usr/local/lib/python3.6/dist-packages/sklearn/metrics/_classification.py:1272: UndefinedMetricWarning: Precision is ill-defined and being set to 0.0 due to no predicted samples. Use `zero_division` parameter to control this behavior.\n",
            "  _warn_prf(average, modifier, msg_start, len(result))\n"
          ],
          "name": "stderr"
        },
        {
          "output_type": "stream",
          "text": [
            "hello\n"
          ],
          "name": "stdout"
        },
        {
          "output_type": "stream",
          "text": [
            "/usr/local/lib/python3.6/dist-packages/sklearn/metrics/_classification.py:1272: UndefinedMetricWarning: Precision is ill-defined and being set to 0.0 due to no predicted samples. Use `zero_division` parameter to control this behavior.\n",
            "  _warn_prf(average, modifier, msg_start, len(result))\n",
            "/usr/local/lib/python3.6/dist-packages/sklearn/metrics/_classification.py:1272: UndefinedMetricWarning: Precision is ill-defined and being set to 0.0 due to no predicted samples. Use `zero_division` parameter to control this behavior.\n",
            "  _warn_prf(average, modifier, msg_start, len(result))\n",
            "/usr/local/lib/python3.6/dist-packages/sklearn/metrics/_classification.py:1272: UndefinedMetricWarning: Precision is ill-defined and being set to 0.0 due to no predicted samples. Use `zero_division` parameter to control this behavior.\n",
            "  _warn_prf(average, modifier, msg_start, len(result))\n",
            "/usr/local/lib/python3.6/dist-packages/sklearn/metrics/_classification.py:1272: UndefinedMetricWarning: Precision is ill-defined and being set to 0.0 due to no predicted samples. Use `zero_division` parameter to control this behavior.\n",
            "  _warn_prf(average, modifier, msg_start, len(result))\n",
            "/usr/local/lib/python3.6/dist-packages/sklearn/metrics/_classification.py:1272: UndefinedMetricWarning: Precision is ill-defined and being set to 0.0 due to no predicted samples. Use `zero_division` parameter to control this behavior.\n",
            "  _warn_prf(average, modifier, msg_start, len(result))\n",
            "/usr/local/lib/python3.6/dist-packages/sklearn/metrics/_classification.py:1272: UndefinedMetricWarning: Precision is ill-defined and being set to 0.0 due to no predicted samples. Use `zero_division` parameter to control this behavior.\n",
            "  _warn_prf(average, modifier, msg_start, len(result))\n"
          ],
          "name": "stderr"
        },
        {
          "output_type": "stream",
          "text": [
            "hello\n"
          ],
          "name": "stdout"
        },
        {
          "output_type": "execute_result",
          "data": {
            "text/plain": [
              "Not too happy, ['year']                                             (0.04687401133122441, 0.1586161879895561, 0.07...\n",
              "Not too happy, ['Satisfaction with financial situation']                                              (0.0, 0.0, nan)\n",
              "Not too happy, ['year', 'Satisfaction with financial situation']    (0.08836795842177565, 0.13655352480417754, 0.1...\n",
              "Pretty happy, ['year']                                              (0.42627406298655596, 0.5778551557343097, 0.49...\n",
              "Pretty happy, ['Satisfaction with financial situation']             (0.5065532797126299, 0.5089154228855721, 0.507...\n",
              "Pretty happy, ['year', 'Satisfaction with financial situation']     (0.5242951897012246, 0.5043302377993648, 0.514...\n",
              "Very happy, ['year']                                                (0.1240291921427713, 0.10978674674007485, 0.11...\n",
              "Very happy, ['Satisfaction with financial situation']               (0.16306238225772535, 0.1288685947082858, 0.14...\n",
              "Very happy, ['year', 'Satisfaction with financial situation']       (0.24638442665770893, 0.18994814612036742, 0.2...\n",
              "dtype: object"
            ]
          },
          "metadata": {
            "tags": []
          },
          "execution_count": 36
        }
      ]
    },
    {
      "cell_type": "code",
      "metadata": {
        "id": "N0us1oJbi0Sk",
        "colab_type": "code",
        "colab": {
          "base_uri": "https://localhost:8080/",
          "height": 186
        },
        "outputId": "c17ab748-f34e-4f11-d790-1da5a44d05b8"
      },
      "source": [
        "for val in errs:\n",
        "  print(val[2])"
      ],
      "execution_count": 37,
      "outputs": [
        {
          "output_type": "stream",
          "text": [
            "0.07236332455478037\n",
            "nan\n",
            "0.10729927643345803\n",
            "0.49062343861755137\n",
            "0.5077316039370429\n",
            "0.5141189603713742\n",
            "0.11647419394258846\n",
            "0.1439629344561468\n",
            "0.21451648580159788\n"
          ],
          "name": "stdout"
        }
      ]
    },
    {
      "cell_type": "markdown",
      "metadata": {
        "id": "G8BHtdp1tVgV",
        "colab_type": "text"
      },
      "source": [
        "We can see from the above that we aren't getting great f1 scores from any of the combos. Around .5 is the best we could achieve. Adding year seemed to help boost a little bit, but then I realized that year is technically a time series and can't be used in the context. If I were to try and predict something in the future, then using year as a training feature would not be helpful.\n",
        "\n",
        "I'd like to move on to job features now. I'll add income to see if it makes the f1 score any better."
      ]
    },
    {
      "cell_type": "code",
      "metadata": {
        "id": "1CZyeE0tyOwx",
        "colab_type": "code",
        "colab": {
          "base_uri": "https://localhost:8080/",
          "height": 337
        },
        "outputId": "3ee4f42a-23f9-4b2c-eff2-953284842d34"
      },
      "source": [
        "df_jobs.head()"
      ],
      "execution_count": 38,
      "outputs": [
        {
          "output_type": "execute_result",
          "data": {
            "text/html": [
              "<div>\n",
              "<style scoped>\n",
              "    .dataframe tbody tr th:only-of-type {\n",
              "        vertical-align: middle;\n",
              "    }\n",
              "\n",
              "    .dataframe tbody tr th {\n",
              "        vertical-align: top;\n",
              "    }\n",
              "\n",
              "    .dataframe thead th {\n",
              "        text-align: right;\n",
              "    }\n",
              "</style>\n",
              "<table border=\"1\" class=\"dataframe\">\n",
              "  <thead>\n",
              "    <tr style=\"text-align: right;\">\n",
              "      <th></th>\n",
              "      <th>Unnamed: 0</th>\n",
              "      <th>index</th>\n",
              "      <th>Rs income in constant $</th>\n",
              "      <th>Rs job is secure</th>\n",
              "      <th>Respondents income</th>\n",
              "      <th>Number of hours usually work a week</th>\n",
              "      <th>General happiness</th>\n",
              "      <th>income</th>\n",
              "    </tr>\n",
              "  </thead>\n",
              "  <tbody>\n",
              "    <tr>\n",
              "      <th>0</th>\n",
              "      <td>3117</td>\n",
              "      <td>3117</td>\n",
              "      <td>4935.0</td>\n",
              "      <td>NaN</td>\n",
              "      <td>$1000 to 2999</td>\n",
              "      <td>NaN</td>\n",
              "      <td>Very happy</td>\n",
              "      <td>4935.0</td>\n",
              "    </tr>\n",
              "    <tr>\n",
              "      <th>1</th>\n",
              "      <td>3118</td>\n",
              "      <td>3118</td>\n",
              "      <td>43178.0</td>\n",
              "      <td>NaN</td>\n",
              "      <td>$15000 - 19999</td>\n",
              "      <td>NaN</td>\n",
              "      <td>Very happy</td>\n",
              "      <td>43178.0</td>\n",
              "    </tr>\n",
              "    <tr>\n",
              "      <th>2</th>\n",
              "      <td>3121</td>\n",
              "      <td>3121</td>\n",
              "      <td>18505.0</td>\n",
              "      <td>NaN</td>\n",
              "      <td>$7000 to 7999</td>\n",
              "      <td>NaN</td>\n",
              "      <td>Pretty happy</td>\n",
              "      <td>18505.0</td>\n",
              "    </tr>\n",
              "    <tr>\n",
              "      <th>3</th>\n",
              "      <td>3122</td>\n",
              "      <td>3122</td>\n",
              "      <td>22206.0</td>\n",
              "      <td>NaN</td>\n",
              "      <td>$8000 to 9999</td>\n",
              "      <td>NaN</td>\n",
              "      <td>Pretty happy</td>\n",
              "      <td>22206.0</td>\n",
              "    </tr>\n",
              "    <tr>\n",
              "      <th>4</th>\n",
              "      <td>3123</td>\n",
              "      <td>3123</td>\n",
              "      <td>55515.0</td>\n",
              "      <td>NaN</td>\n",
              "      <td>$20000 - 24999</td>\n",
              "      <td>NaN</td>\n",
              "      <td>Very happy</td>\n",
              "      <td>55515.0</td>\n",
              "    </tr>\n",
              "  </tbody>\n",
              "</table>\n",
              "</div>"
            ],
            "text/plain": [
              "   Unnamed: 0  index  ...  General happiness   income\n",
              "0        3117   3117  ...         Very happy   4935.0\n",
              "1        3118   3118  ...         Very happy  43178.0\n",
              "2        3121   3121  ...       Pretty happy  18505.0\n",
              "3        3122   3122  ...       Pretty happy  22206.0\n",
              "4        3123   3123  ...         Very happy  55515.0\n",
              "\n",
              "[5 rows x 8 columns]"
            ]
          },
          "metadata": {
            "tags": []
          },
          "execution_count": 38
        }
      ]
    },
    {
      "cell_type": "code",
      "metadata": {
        "id": "xixfN_OltV-8",
        "colab_type": "code",
        "colab": {}
      },
      "source": [
        "df_happy_jobs = df_happy.merge(df_jobs, left_on=[\"index\"], right_on=[\"index\"])\n",
        "y_train = df_happy_jobs['General happiness_x']"
      ],
      "execution_count": 0,
      "outputs": []
    },
    {
      "cell_type": "code",
      "metadata": {
        "id": "ZgoZ0iDTlZ-P",
        "colab_type": "code",
        "colab": {
          "base_uri": "https://localhost:8080/",
          "height": 418
        },
        "outputId": "130fbcf5-0776-4a73-a785-c4c1cf498289"
      },
      "source": [
        "# calculate estimate of test error for a given feature set\n",
        "def get_cv_error(features, clss):\n",
        "  # define pipeline\n",
        "  if len(features) == 1:\n",
        "    ct = make_column_transformer(\n",
        "        (StandardScaler(), [\"income\"]),\n",
        "        remainder=\"passthrough\"\n",
        "    )\n",
        "  if len(features) == 2:\n",
        "    ct = make_column_transformer(\n",
        "        (OneHotEncoder(handle_unknown='ignore'), [\"Satisfaction with financial situation\"]),\n",
        "        (StandardScaler(), [\"income\"]),\n",
        "        remainder=\"passthrough\"\n",
        "    )\n",
        "\n",
        "  pipeline = make_pipeline(\n",
        "      ct,\n",
        "      KNeighborsClassifier(n_neighbors=10)\n",
        "  )\n",
        "\n",
        "  is_class = (y_train == clss)\n",
        "  # calculate errors from cross-validation\n",
        "  recall = cross_val_score(pipeline, df_happy_jobs[features],\n",
        "                is_class, cv=10, scoring=\"recall\").mean()\n",
        "  precision = cross_val_score(pipeline, df_happy_jobs[features],\n",
        "                is_class, cv=10, scoring=\"precision\").mean()\n",
        "  # calculate average of the cross-validation errors\n",
        "  return (precision, recall, 2 * (precision * recall) / (precision + recall))\n",
        "\n",
        "# calculate and store errors for different feature sets\n",
        "errs = pd.Series()\n",
        "classes = ['Not too happy','Pretty happy', 'Very happy']\n",
        "for clss in classes:\n",
        "  for features in [[\"income\"],\n",
        "                   [\"income\", \"Satisfaction with financial situation\"]]:\n",
        "    errs[clss + \", \" + str(features)] = get_cv_error(features, clss)\n",
        "\n",
        "errs"
      ],
      "execution_count": 40,
      "outputs": [
        {
          "output_type": "stream",
          "text": [
            "/usr/local/lib/python3.6/dist-packages/sklearn/metrics/_classification.py:1272: UndefinedMetricWarning: Precision is ill-defined and being set to 0.0 due to no predicted samples. Use `zero_division` parameter to control this behavior.\n",
            "  _warn_prf(average, modifier, msg_start, len(result))\n",
            "/usr/local/lib/python3.6/dist-packages/sklearn/metrics/_classification.py:1272: UndefinedMetricWarning: Precision is ill-defined and being set to 0.0 due to no predicted samples. Use `zero_division` parameter to control this behavior.\n",
            "  _warn_prf(average, modifier, msg_start, len(result))\n",
            "/usr/local/lib/python3.6/dist-packages/sklearn/metrics/_classification.py:1272: UndefinedMetricWarning: Precision is ill-defined and being set to 0.0 due to no predicted samples. Use `zero_division` parameter to control this behavior.\n",
            "  _warn_prf(average, modifier, msg_start, len(result))\n",
            "/usr/local/lib/python3.6/dist-packages/sklearn/metrics/_classification.py:1272: UndefinedMetricWarning: Precision is ill-defined and being set to 0.0 due to no predicted samples. Use `zero_division` parameter to control this behavior.\n",
            "  _warn_prf(average, modifier, msg_start, len(result))\n",
            "/usr/local/lib/python3.6/dist-packages/sklearn/metrics/_classification.py:1272: UndefinedMetricWarning: Precision is ill-defined and being set to 0.0 due to no predicted samples. Use `zero_division` parameter to control this behavior.\n",
            "  _warn_prf(average, modifier, msg_start, len(result))\n",
            "/usr/local/lib/python3.6/dist-packages/sklearn/metrics/_classification.py:1272: UndefinedMetricWarning: Precision is ill-defined and being set to 0.0 due to no predicted samples. Use `zero_division` parameter to control this behavior.\n",
            "  _warn_prf(average, modifier, msg_start, len(result))\n",
            "/usr/local/lib/python3.6/dist-packages/sklearn/metrics/_classification.py:1272: UndefinedMetricWarning: Precision is ill-defined and being set to 0.0 due to no predicted samples. Use `zero_division` parameter to control this behavior.\n",
            "  _warn_prf(average, modifier, msg_start, len(result))\n",
            "/usr/local/lib/python3.6/dist-packages/sklearn/metrics/_classification.py:1272: UndefinedMetricWarning: Precision is ill-defined and being set to 0.0 due to no predicted samples. Use `zero_division` parameter to control this behavior.\n",
            "  _warn_prf(average, modifier, msg_start, len(result))\n"
          ],
          "name": "stderr"
        },
        {
          "output_type": "execute_result",
          "data": {
            "text/plain": [
              "Not too happy, ['income']                                             (0.027942882641677824, 0.01566579634464752, 0....\n",
              "Not too happy, ['income', 'Satisfaction with financial situation']    (0.1373199535850706, 0.015674681831230435, 0.0...\n",
              "Pretty happy, ['income']                                              (0.5656069946040347, 0.5346845622904625, 0.549...\n",
              "Pretty happy, ['income', 'Satisfaction with financial situation']     (0.5781024136145734, 0.5727305881429087, 0.575...\n",
              "Very happy, ['income']                                                (0.24395710683473207, 0.13402876470922628, 0.1...\n",
              "Very happy, ['income', 'Satisfaction with financial situation']       (0.36741274139543434, 0.1638192222951475, 0.22...\n",
              "dtype: object"
            ]
          },
          "metadata": {
            "tags": []
          },
          "execution_count": 40
        }
      ]
    },
    {
      "cell_type": "code",
      "metadata": {
        "id": "7KzTB5zkk3BM",
        "colab_type": "code",
        "colab": {
          "base_uri": "https://localhost:8080/",
          "height": 137
        },
        "outputId": "6bba78e5-4931-4689-b3d1-6df8ee6274ec"
      },
      "source": [
        "for val in errs:\n",
        "  print(val[2])"
      ],
      "execution_count": 41,
      "outputs": [
        {
          "output_type": "stream",
          "text": [
            "0.02007616460403116\n",
            "0.028137543197752895\n",
            "0.5497112586991892\n",
            "0.5754039636518566\n",
            "0.17300789332435834\n",
            "0.22660259047132822\n"
          ],
          "name": "stdout"
        }
      ]
    },
    {
      "cell_type": "markdown",
      "metadata": {
        "id": "86IOiM-S3P2g",
        "colab_type": "text"
      },
      "source": [
        "Adding income gave us .028 for Not Happy, .575 for Pretty Happy and .226 for Very happy. Adding income did give a boost.\n",
        "\n",
        "I am getting the complaints about precision because it can't make a prediction with no data in the much smaller category of Not too happy.\n",
        "\n",
        "Now I'll see if adding social trends helps with predictions."
      ]
    },
    {
      "cell_type": "code",
      "metadata": {
        "id": "LNE9vOoa71zs",
        "colab_type": "code",
        "colab": {
          "base_uri": "https://localhost:8080/",
          "height": 104
        },
        "outputId": "48fa25f6-a304-410b-a63b-cb4ca4e29bdd"
      },
      "source": [
        "df_happy_jobs_social = df_happy_jobs.merge(df_social, \n",
        "                                           left_on=[\"index\"], \n",
        "                                           right_on=[\"index\"])\n",
        "df_happy_jobs_social['General happiness'].value_counts()"
      ],
      "execution_count": 45,
      "outputs": [
        {
          "output_type": "execute_result",
          "data": {
            "text/plain": [
              "Pretty happy     4913\n",
              "Very happy       2554\n",
              "Not too happy     821\n",
              "Name: General happiness, dtype: int64"
            ]
          },
          "metadata": {
            "tags": []
          },
          "execution_count": 45
        }
      ]
    },
    {
      "cell_type": "code",
      "metadata": {
        "id": "R0j5V-sH9at5",
        "colab_type": "code",
        "colab": {
          "base_uri": "https://localhost:8080/",
          "height": 1000
        },
        "outputId": "7e01f8f2-8fbb-4135-a712-e0599bbd7ee1"
      },
      "source": [
        "# calculate estimate of test error for a given feature set\n",
        "y_train = df_happy_jobs_social['General happiness']\n",
        "def get_cv_error(features, clss):\n",
        "  # define pipeline\n",
        "  if len(features) == 1:\n",
        "    ct = make_column_transformer(\n",
        "        (StandardScaler(), [\"social_score\"]),\n",
        "        remainder=\"passthrough\"\n",
        "    )\n",
        "  if len(features) == 2:\n",
        "    ct = make_column_transformer(\n",
        "        (StandardScaler(), [\"income\", \"social_score\"]),\n",
        "        remainder=\"passthrough\"\n",
        "    )\n",
        "  if len(features) == 3:\n",
        "    ct = make_column_transformer(\n",
        "        (OneHotEncoder(handle_unknown='ignore'), [\"Satisfaction with financial situation\"]),\n",
        "        (StandardScaler(), [\"income\", \"social_score\"]),\n",
        "        remainder=\"passthrough\"\n",
        "    )\n",
        "\n",
        "  pipeline = make_pipeline(\n",
        "      ct,\n",
        "      KNeighborsClassifier(n_neighbors=10)\n",
        "  )\n",
        "\n",
        "  is_class = (y_train == clss)\n",
        "  # calculate errors from cross-validation\n",
        "  recall = cross_val_score(pipeline, df_happy_jobs_social[features],\n",
        "                is_class, cv=10, scoring=\"recall\").mean()\n",
        "  precision = cross_val_score(pipeline, df_happy_jobs_social[features],\n",
        "                is_class, cv=10, scoring=\"precision\").mean()\n",
        "  # calculate average of the cross-validation errors\n",
        "  return (precision, recall, 2 * (precision * recall) / (precision + recall))\n",
        "\n",
        "# calculate and store errors for different feature sets\n",
        "errs = pd.Series()\n",
        "classes = ['Not too happy','Pretty happy', 'Very happy']\n",
        "for clss in classes:\n",
        "  for features in [[\"social_score\"],\n",
        "                   [\"income\", \"social_score\"],\n",
        "                   [\"income\", \"Satisfaction with financial situation\", \"social_score\"]]:\n",
        "    errs[clss + \", \" + str(features)] = get_cv_error(features, clss)\n",
        "\n",
        "errs"
      ],
      "execution_count": 42,
      "outputs": [
        {
          "output_type": "stream",
          "text": [
            "/usr/local/lib/python3.6/dist-packages/sklearn/metrics/_classification.py:1272: UndefinedMetricWarning: Precision is ill-defined and being set to 0.0 due to no predicted samples. Use `zero_division` parameter to control this behavior.\n",
            "  _warn_prf(average, modifier, msg_start, len(result))\n",
            "/usr/local/lib/python3.6/dist-packages/sklearn/metrics/_classification.py:1272: UndefinedMetricWarning: Precision is ill-defined and being set to 0.0 due to no predicted samples. Use `zero_division` parameter to control this behavior.\n",
            "  _warn_prf(average, modifier, msg_start, len(result))\n",
            "/usr/local/lib/python3.6/dist-packages/sklearn/metrics/_classification.py:1272: UndefinedMetricWarning: Precision is ill-defined and being set to 0.0 due to no predicted samples. Use `zero_division` parameter to control this behavior.\n",
            "  _warn_prf(average, modifier, msg_start, len(result))\n",
            "/usr/local/lib/python3.6/dist-packages/sklearn/metrics/_classification.py:1272: UndefinedMetricWarning: Precision is ill-defined and being set to 0.0 due to no predicted samples. Use `zero_division` parameter to control this behavior.\n",
            "  _warn_prf(average, modifier, msg_start, len(result))\n",
            "/usr/local/lib/python3.6/dist-packages/sklearn/metrics/_classification.py:1272: UndefinedMetricWarning: Precision is ill-defined and being set to 0.0 due to no predicted samples. Use `zero_division` parameter to control this behavior.\n",
            "  _warn_prf(average, modifier, msg_start, len(result))\n",
            "/usr/local/lib/python3.6/dist-packages/sklearn/metrics/_classification.py:1272: UndefinedMetricWarning: Precision is ill-defined and being set to 0.0 due to no predicted samples. Use `zero_division` parameter to control this behavior.\n",
            "  _warn_prf(average, modifier, msg_start, len(result))\n",
            "/usr/local/lib/python3.6/dist-packages/sklearn/metrics/_classification.py:1272: UndefinedMetricWarning: Precision is ill-defined and being set to 0.0 due to no predicted samples. Use `zero_division` parameter to control this behavior.\n",
            "  _warn_prf(average, modifier, msg_start, len(result))\n",
            "/usr/local/lib/python3.6/dist-packages/sklearn/metrics/_classification.py:1272: UndefinedMetricWarning: Precision is ill-defined and being set to 0.0 due to no predicted samples. Use `zero_division` parameter to control this behavior.\n",
            "  _warn_prf(average, modifier, msg_start, len(result))\n",
            "/usr/local/lib/python3.6/dist-packages/sklearn/metrics/_classification.py:1272: UndefinedMetricWarning: Precision is ill-defined and being set to 0.0 due to no predicted samples. Use `zero_division` parameter to control this behavior.\n",
            "  _warn_prf(average, modifier, msg_start, len(result))\n",
            "/usr/local/lib/python3.6/dist-packages/sklearn/metrics/_classification.py:1272: UndefinedMetricWarning: Precision is ill-defined and being set to 0.0 due to no predicted samples. Use `zero_division` parameter to control this behavior.\n",
            "  _warn_prf(average, modifier, msg_start, len(result))\n",
            "/usr/local/lib/python3.6/dist-packages/ipykernel_launcher.py:33: RuntimeWarning: invalid value encountered in double_scalars\n",
            "/usr/local/lib/python3.6/dist-packages/sklearn/metrics/_classification.py:1272: UndefinedMetricWarning: Precision is ill-defined and being set to 0.0 due to no predicted samples. Use `zero_division` parameter to control this behavior.\n",
            "  _warn_prf(average, modifier, msg_start, len(result))\n",
            "/usr/local/lib/python3.6/dist-packages/sklearn/metrics/_classification.py:1272: UndefinedMetricWarning: Precision is ill-defined and being set to 0.0 due to no predicted samples. Use `zero_division` parameter to control this behavior.\n",
            "  _warn_prf(average, modifier, msg_start, len(result))\n",
            "/usr/local/lib/python3.6/dist-packages/sklearn/metrics/_classification.py:1272: UndefinedMetricWarning: Precision is ill-defined and being set to 0.0 due to no predicted samples. Use `zero_division` parameter to control this behavior.\n",
            "  _warn_prf(average, modifier, msg_start, len(result))\n",
            "/usr/local/lib/python3.6/dist-packages/sklearn/metrics/_classification.py:1272: UndefinedMetricWarning: Precision is ill-defined and being set to 0.0 due to no predicted samples. Use `zero_division` parameter to control this behavior.\n",
            "  _warn_prf(average, modifier, msg_start, len(result))\n",
            "/usr/local/lib/python3.6/dist-packages/sklearn/metrics/_classification.py:1272: UndefinedMetricWarning: Precision is ill-defined and being set to 0.0 due to no predicted samples. Use `zero_division` parameter to control this behavior.\n",
            "  _warn_prf(average, modifier, msg_start, len(result))\n",
            "/usr/local/lib/python3.6/dist-packages/sklearn/metrics/_classification.py:1272: UndefinedMetricWarning: Precision is ill-defined and being set to 0.0 due to no predicted samples. Use `zero_division` parameter to control this behavior.\n",
            "  _warn_prf(average, modifier, msg_start, len(result))\n",
            "/usr/local/lib/python3.6/dist-packages/sklearn/metrics/_classification.py:1272: UndefinedMetricWarning: Precision is ill-defined and being set to 0.0 due to no predicted samples. Use `zero_division` parameter to control this behavior.\n",
            "  _warn_prf(average, modifier, msg_start, len(result))\n",
            "/usr/local/lib/python3.6/dist-packages/sklearn/metrics/_classification.py:1272: UndefinedMetricWarning: Precision is ill-defined and being set to 0.0 due to no predicted samples. Use `zero_division` parameter to control this behavior.\n",
            "  _warn_prf(average, modifier, msg_start, len(result))\n",
            "/usr/local/lib/python3.6/dist-packages/sklearn/metrics/_classification.py:1272: UndefinedMetricWarning: Precision is ill-defined and being set to 0.0 due to no predicted samples. Use `zero_division` parameter to control this behavior.\n",
            "  _warn_prf(average, modifier, msg_start, len(result))\n",
            "/usr/local/lib/python3.6/dist-packages/sklearn/metrics/_classification.py:1272: UndefinedMetricWarning: Precision is ill-defined and being set to 0.0 due to no predicted samples. Use `zero_division` parameter to control this behavior.\n",
            "  _warn_prf(average, modifier, msg_start, len(result))\n",
            "/usr/local/lib/python3.6/dist-packages/ipykernel_launcher.py:33: RuntimeWarning: invalid value encountered in double_scalars\n",
            "/usr/local/lib/python3.6/dist-packages/sklearn/metrics/_classification.py:1272: UndefinedMetricWarning: Precision is ill-defined and being set to 0.0 due to no predicted samples. Use `zero_division` parameter to control this behavior.\n",
            "  _warn_prf(average, modifier, msg_start, len(result))\n",
            "/usr/local/lib/python3.6/dist-packages/sklearn/metrics/_classification.py:1272: UndefinedMetricWarning: Precision is ill-defined and being set to 0.0 due to no predicted samples. Use `zero_division` parameter to control this behavior.\n",
            "  _warn_prf(average, modifier, msg_start, len(result))\n",
            "/usr/local/lib/python3.6/dist-packages/sklearn/metrics/_classification.py:1272: UndefinedMetricWarning: Precision is ill-defined and being set to 0.0 due to no predicted samples. Use `zero_division` parameter to control this behavior.\n",
            "  _warn_prf(average, modifier, msg_start, len(result))\n",
            "/usr/local/lib/python3.6/dist-packages/sklearn/metrics/_classification.py:1272: UndefinedMetricWarning: Precision is ill-defined and being set to 0.0 due to no predicted samples. Use `zero_division` parameter to control this behavior.\n",
            "  _warn_prf(average, modifier, msg_start, len(result))\n",
            "/usr/local/lib/python3.6/dist-packages/sklearn/metrics/_classification.py:1272: UndefinedMetricWarning: Precision is ill-defined and being set to 0.0 due to no predicted samples. Use `zero_division` parameter to control this behavior.\n",
            "  _warn_prf(average, modifier, msg_start, len(result))\n",
            "/usr/local/lib/python3.6/dist-packages/ipykernel_launcher.py:33: RuntimeWarning: invalid value encountered in double_scalars\n",
            "/usr/local/lib/python3.6/dist-packages/sklearn/metrics/_classification.py:1272: UndefinedMetricWarning: Precision is ill-defined and being set to 0.0 due to no predicted samples. Use `zero_division` parameter to control this behavior.\n",
            "  _warn_prf(average, modifier, msg_start, len(result))\n",
            "/usr/local/lib/python3.6/dist-packages/sklearn/metrics/_classification.py:1272: UndefinedMetricWarning: Precision is ill-defined and being set to 0.0 due to no predicted samples. Use `zero_division` parameter to control this behavior.\n",
            "  _warn_prf(average, modifier, msg_start, len(result))\n",
            "/usr/local/lib/python3.6/dist-packages/sklearn/metrics/_classification.py:1272: UndefinedMetricWarning: Precision is ill-defined and being set to 0.0 due to no predicted samples. Use `zero_division` parameter to control this behavior.\n",
            "  _warn_prf(average, modifier, msg_start, len(result))\n",
            "/usr/local/lib/python3.6/dist-packages/sklearn/metrics/_classification.py:1272: UndefinedMetricWarning: Precision is ill-defined and being set to 0.0 due to no predicted samples. Use `zero_division` parameter to control this behavior.\n",
            "  _warn_prf(average, modifier, msg_start, len(result))\n"
          ],
          "name": "stderr"
        },
        {
          "output_type": "execute_result",
          "data": {
            "text/plain": [
              "Not too happy, ['social_score']                                                                                         (0.0, 0.0, nan)\n",
              "Not too happy, ['income', 'social_score']                                                                               (0.0, 0.0, nan)\n",
              "Not too happy, ['income', 'Satisfaction with financial situation', 'social_score']                                      (0.0, 0.0, nan)\n",
              "Pretty happy, ['social_score']                                                        (0.5945018382607017, 0.6467078138194824, 0.619...\n",
              "Pretty happy, ['income', 'social_score']                                              (0.5890257629236345, 0.6061360588147633, 0.597...\n",
              "Pretty happy, ['income', 'Satisfaction with financial situation', 'social_score']     (0.6106161563361755, 0.6326138790919477, 0.621...\n",
              "Very happy, ['social_score']                                                          (0.15619047619047619, 0.04274509803921569, 0.0...\n",
              "Very happy, ['income', 'social_score']                                                (0.35175582473746647, 0.06930606617647059, 0.1...\n",
              "Very happy, ['income', 'Satisfaction with financial situation', 'social_score']       (0.4132344201815399, 0.13158241421568626, 0.19...\n",
              "dtype: object"
            ]
          },
          "metadata": {
            "tags": []
          },
          "execution_count": 42
        }
      ]
    },
    {
      "cell_type": "code",
      "metadata": {
        "id": "Xhy8iLf7lvOD",
        "colab_type": "code",
        "colab": {
          "base_uri": "https://localhost:8080/",
          "height": 186
        },
        "outputId": "5be5bdb7-dc15-4db2-c04b-ac5da3252e0d"
      },
      "source": [
        "for val in errs:\n",
        "  print(val[2])\n",
        "# the below are the f1 scores\n",
        "# they are ordered the same as the happiness and associated features above"
      ],
      "execution_count": 46,
      "outputs": [
        {
          "output_type": "stream",
          "text": [
            "nan\n",
            "nan\n",
            "nan\n",
            "0.619506919703529\n",
            "0.5974584327996366\n",
            "0.621420403767869\n",
            "0.06712099877968647\n",
            "0.11579681274075096\n",
            "0.19960610323161174\n"
          ],
          "name": "stdout"
        }
      ]
    },
    {
      "cell_type": "markdown",
      "metadata": {
        "id": "JafarkOT6hty",
        "colab_type": "text"
      },
      "source": [
        "The huge imbalance between not happy and the others makes the predictions for not too happy cause the precision and recall to be 0. F1 score for pretty happy went up, but down for very  happy. I think adding social to the equation doesn't actually help much.\n",
        "\n",
        "I think income and job satisfaction are the best ways to predict happiness or non-happiness. We'll change up models now to see what works best. I'll still look at social score just to see how it performs with a different model."
      ]
    },
    {
      "cell_type": "code",
      "metadata": {
        "id": "LI43LXT5Eiuw",
        "colab_type": "code",
        "colab": {
          "base_uri": "https://localhost:8080/",
          "height": 1000
        },
        "outputId": "53374978-f45a-4508-ba93-61f5179324c9"
      },
      "source": [
        "# calculate estimate of test error for a given feature set\n",
        "from sklearn import svm\n",
        "y_train = df_happy_jobs_social['General happiness']\n",
        "def get_cv_error(features, clss):\n",
        "  # define pipeline\n",
        "  if len(features) == 1:\n",
        "    ct = make_column_transformer(\n",
        "        (StandardScaler(), [\"social_score\"]),\n",
        "        remainder=\"passthrough\"\n",
        "    )\n",
        "  if len(features) == 2 and features[1] == \"social_score\":\n",
        "    ct = make_column_transformer(\n",
        "        (StandardScaler(), [\"income\", \"social_score\"]),\n",
        "        remainder=\"passthrough\"\n",
        "    )\n",
        "  if len(features) == 2 and features[1] != \"social_score\":\n",
        "    ct = make_column_transformer(\n",
        "        (OneHotEncoder(handle_unknown='ignore'), [\"Satisfaction with financial situation\"]),\n",
        "        (StandardScaler(), [\"income\"]),\n",
        "        remainder=\"passthrough\"\n",
        "    )\n",
        "  if len(features) == 3:\n",
        "    ct = make_column_transformer(\n",
        "        (OneHotEncoder(handle_unknown='ignore'), [\"Satisfaction with financial situation\"]),\n",
        "        (StandardScaler(), [\"income\", \"social_score\"]),\n",
        "        remainder=\"passthrough\"\n",
        "    )\n",
        "\n",
        "  pipeline = make_pipeline(\n",
        "      ct,\n",
        "      svm.SVC()\n",
        "  )\n",
        "\n",
        "  is_class = (y_train == clss)\n",
        "  # calculate errors from cross-validation\n",
        "  recall = cross_val_score(pipeline, df_happy_jobs_social[features],\n",
        "                is_class, cv=5, scoring=\"recall\").mean()\n",
        "  precision = cross_val_score(pipeline, df_happy_jobs_social[features],\n",
        "                is_class, cv=5, scoring=\"precision\").mean()\n",
        "  # calculate average of the cross-validation errors\n",
        "  return (precision, recall, 2 * (precision * recall) / (precision + recall))\n",
        "\n",
        "# calculate and store errors for different feature sets\n",
        "errs = pd.Series()\n",
        "classes = ['Not too happy','Pretty happy', 'Very happy']\n",
        "for clss in classes:\n",
        "  for features in [[\"social_score\"],\n",
        "                   [\"income\", \"social_score\"],\n",
        "                   [\"income\", \"Satisfaction with financial situation\"],\n",
        "                   [\"income\", \"Satisfaction with financial situation\", \"social_score\"]]:\n",
        "    errs[clss + \", \" + str(features)] = get_cv_error(features, clss)\n",
        "\n",
        "errs"
      ],
      "execution_count": 52,
      "outputs": [
        {
          "output_type": "stream",
          "text": [
            "/usr/local/lib/python3.6/dist-packages/sklearn/model_selection/_validation.py:536: FitFailedWarning: Estimator fit failed. The score on this train-test partition for these parameters will be set to nan. Details: \n",
            "ValueError: The number of classes has to be greater than one; got 1 class\n",
            "\n",
            "  FitFailedWarning)\n",
            "/usr/local/lib/python3.6/dist-packages/sklearn/model_selection/_validation.py:536: FitFailedWarning: Estimator fit failed. The score on this train-test partition for these parameters will be set to nan. Details: \n",
            "ValueError: The number of classes has to be greater than one; got 1 class\n",
            "\n",
            "  FitFailedWarning)\n",
            "/usr/local/lib/python3.6/dist-packages/sklearn/model_selection/_validation.py:536: FitFailedWarning: Estimator fit failed. The score on this train-test partition for these parameters will be set to nan. Details: \n",
            "ValueError: The number of classes has to be greater than one; got 1 class\n",
            "\n",
            "  FitFailedWarning)\n",
            "/usr/local/lib/python3.6/dist-packages/sklearn/model_selection/_validation.py:536: FitFailedWarning: Estimator fit failed. The score on this train-test partition for these parameters will be set to nan. Details: \n",
            "ValueError: The number of classes has to be greater than one; got 1 class\n",
            "\n",
            "  FitFailedWarning)\n",
            "/usr/local/lib/python3.6/dist-packages/sklearn/model_selection/_validation.py:536: FitFailedWarning: Estimator fit failed. The score on this train-test partition for these parameters will be set to nan. Details: \n",
            "ValueError: The number of classes has to be greater than one; got 1 class\n",
            "\n",
            "  FitFailedWarning)\n",
            "/usr/local/lib/python3.6/dist-packages/sklearn/model_selection/_validation.py:536: FitFailedWarning: Estimator fit failed. The score on this train-test partition for these parameters will be set to nan. Details: \n",
            "ValueError: The number of classes has to be greater than one; got 1 class\n",
            "\n",
            "  FitFailedWarning)\n",
            "/usr/local/lib/python3.6/dist-packages/sklearn/model_selection/_validation.py:536: FitFailedWarning: Estimator fit failed. The score on this train-test partition for these parameters will be set to nan. Details: \n",
            "ValueError: The number of classes has to be greater than one; got 1 class\n",
            "\n",
            "  FitFailedWarning)\n",
            "/usr/local/lib/python3.6/dist-packages/sklearn/model_selection/_validation.py:536: FitFailedWarning: Estimator fit failed. The score on this train-test partition for these parameters will be set to nan. Details: \n",
            "ValueError: The number of classes has to be greater than one; got 1 class\n",
            "\n",
            "  FitFailedWarning)\n",
            "/usr/local/lib/python3.6/dist-packages/sklearn/model_selection/_validation.py:536: FitFailedWarning: Estimator fit failed. The score on this train-test partition for these parameters will be set to nan. Details: \n",
            "ValueError: The number of classes has to be greater than one; got 1 class\n",
            "\n",
            "  FitFailedWarning)\n",
            "/usr/local/lib/python3.6/dist-packages/sklearn/model_selection/_validation.py:536: FitFailedWarning: Estimator fit failed. The score on this train-test partition for these parameters will be set to nan. Details: \n",
            "ValueError: The number of classes has to be greater than one; got 1 class\n",
            "\n",
            "  FitFailedWarning)\n",
            "/usr/local/lib/python3.6/dist-packages/sklearn/model_selection/_validation.py:536: FitFailedWarning: Estimator fit failed. The score on this train-test partition for these parameters will be set to nan. Details: \n",
            "ValueError: The number of classes has to be greater than one; got 1 class\n",
            "\n",
            "  FitFailedWarning)\n",
            "/usr/local/lib/python3.6/dist-packages/sklearn/model_selection/_validation.py:536: FitFailedWarning: Estimator fit failed. The score on this train-test partition for these parameters will be set to nan. Details: \n",
            "ValueError: The number of classes has to be greater than one; got 1 class\n",
            "\n",
            "  FitFailedWarning)\n",
            "/usr/local/lib/python3.6/dist-packages/sklearn/model_selection/_validation.py:536: FitFailedWarning: Estimator fit failed. The score on this train-test partition for these parameters will be set to nan. Details: \n",
            "ValueError: The number of classes has to be greater than one; got 1 class\n",
            "\n",
            "  FitFailedWarning)\n",
            "/usr/local/lib/python3.6/dist-packages/sklearn/model_selection/_validation.py:536: FitFailedWarning: Estimator fit failed. The score on this train-test partition for these parameters will be set to nan. Details: \n",
            "ValueError: The number of classes has to be greater than one; got 1 class\n",
            "\n",
            "  FitFailedWarning)\n",
            "/usr/local/lib/python3.6/dist-packages/sklearn/model_selection/_validation.py:536: FitFailedWarning: Estimator fit failed. The score on this train-test partition for these parameters will be set to nan. Details: \n",
            "ValueError: The number of classes has to be greater than one; got 1 class\n",
            "\n",
            "  FitFailedWarning)\n",
            "/usr/local/lib/python3.6/dist-packages/sklearn/model_selection/_validation.py:536: FitFailedWarning: Estimator fit failed. The score on this train-test partition for these parameters will be set to nan. Details: \n",
            "ValueError: The number of classes has to be greater than one; got 1 class\n",
            "\n",
            "  FitFailedWarning)\n",
            "/usr/local/lib/python3.6/dist-packages/sklearn/model_selection/_validation.py:536: FitFailedWarning: Estimator fit failed. The score on this train-test partition for these parameters will be set to nan. Details: \n",
            "ValueError: The number of classes has to be greater than one; got 1 class\n",
            "\n",
            "  FitFailedWarning)\n",
            "/usr/local/lib/python3.6/dist-packages/sklearn/model_selection/_validation.py:536: FitFailedWarning: Estimator fit failed. The score on this train-test partition for these parameters will be set to nan. Details: \n",
            "ValueError: The number of classes has to be greater than one; got 1 class\n",
            "\n",
            "  FitFailedWarning)\n",
            "/usr/local/lib/python3.6/dist-packages/sklearn/model_selection/_validation.py:536: FitFailedWarning: Estimator fit failed. The score on this train-test partition for these parameters will be set to nan. Details: \n",
            "ValueError: The number of classes has to be greater than one; got 1 class\n",
            "\n",
            "  FitFailedWarning)\n",
            "/usr/local/lib/python3.6/dist-packages/sklearn/model_selection/_validation.py:536: FitFailedWarning: Estimator fit failed. The score on this train-test partition for these parameters will be set to nan. Details: \n",
            "ValueError: The number of classes has to be greater than one; got 1 class\n",
            "\n",
            "  FitFailedWarning)\n",
            "/usr/local/lib/python3.6/dist-packages/sklearn/model_selection/_validation.py:536: FitFailedWarning: Estimator fit failed. The score on this train-test partition for these parameters will be set to nan. Details: \n",
            "ValueError: The number of classes has to be greater than one; got 1 class\n",
            "\n",
            "  FitFailedWarning)\n",
            "/usr/local/lib/python3.6/dist-packages/sklearn/model_selection/_validation.py:536: FitFailedWarning: Estimator fit failed. The score on this train-test partition for these parameters will be set to nan. Details: \n",
            "ValueError: The number of classes has to be greater than one; got 1 class\n",
            "\n",
            "  FitFailedWarning)\n",
            "/usr/local/lib/python3.6/dist-packages/sklearn/model_selection/_validation.py:536: FitFailedWarning: Estimator fit failed. The score on this train-test partition for these parameters will be set to nan. Details: \n",
            "ValueError: The number of classes has to be greater than one; got 1 class\n",
            "\n",
            "  FitFailedWarning)\n",
            "/usr/local/lib/python3.6/dist-packages/sklearn/model_selection/_validation.py:536: FitFailedWarning: Estimator fit failed. The score on this train-test partition for these parameters will be set to nan. Details: \n",
            "ValueError: The number of classes has to be greater than one; got 1 class\n",
            "\n",
            "  FitFailedWarning)\n",
            "/usr/local/lib/python3.6/dist-packages/sklearn/model_selection/_validation.py:536: FitFailedWarning: Estimator fit failed. The score on this train-test partition for these parameters will be set to nan. Details: \n",
            "ValueError: The number of classes has to be greater than one; got 1 class\n",
            "\n",
            "  FitFailedWarning)\n",
            "/usr/local/lib/python3.6/dist-packages/sklearn/model_selection/_validation.py:536: FitFailedWarning: Estimator fit failed. The score on this train-test partition for these parameters will be set to nan. Details: \n",
            "ValueError: The number of classes has to be greater than one; got 1 class\n",
            "\n",
            "  FitFailedWarning)\n",
            "/usr/local/lib/python3.6/dist-packages/sklearn/model_selection/_validation.py:536: FitFailedWarning: Estimator fit failed. The score on this train-test partition for these parameters will be set to nan. Details: \n",
            "ValueError: The number of classes has to be greater than one; got 1 class\n",
            "\n",
            "  FitFailedWarning)\n",
            "/usr/local/lib/python3.6/dist-packages/sklearn/model_selection/_validation.py:536: FitFailedWarning: Estimator fit failed. The score on this train-test partition for these parameters will be set to nan. Details: \n",
            "ValueError: The number of classes has to be greater than one; got 1 class\n",
            "\n",
            "  FitFailedWarning)\n",
            "/usr/local/lib/python3.6/dist-packages/sklearn/model_selection/_validation.py:536: FitFailedWarning: Estimator fit failed. The score on this train-test partition for these parameters will be set to nan. Details: \n",
            "ValueError: The number of classes has to be greater than one; got 1 class\n",
            "\n",
            "  FitFailedWarning)\n",
            "/usr/local/lib/python3.6/dist-packages/sklearn/model_selection/_validation.py:536: FitFailedWarning: Estimator fit failed. The score on this train-test partition for these parameters will be set to nan. Details: \n",
            "ValueError: The number of classes has to be greater than one; got 1 class\n",
            "\n",
            "  FitFailedWarning)\n",
            "/usr/local/lib/python3.6/dist-packages/sklearn/model_selection/_validation.py:536: FitFailedWarning: Estimator fit failed. The score on this train-test partition for these parameters will be set to nan. Details: \n",
            "ValueError: The number of classes has to be greater than one; got 1 class\n",
            "\n",
            "  FitFailedWarning)\n",
            "/usr/local/lib/python3.6/dist-packages/sklearn/model_selection/_validation.py:536: FitFailedWarning: Estimator fit failed. The score on this train-test partition for these parameters will be set to nan. Details: \n",
            "ValueError: The number of classes has to be greater than one; got 1 class\n",
            "\n",
            "  FitFailedWarning)\n",
            "/usr/local/lib/python3.6/dist-packages/sklearn/model_selection/_validation.py:536: FitFailedWarning: Estimator fit failed. The score on this train-test partition for these parameters will be set to nan. Details: \n",
            "ValueError: The number of classes has to be greater than one; got 1 class\n",
            "\n",
            "  FitFailedWarning)\n",
            "/usr/local/lib/python3.6/dist-packages/sklearn/model_selection/_validation.py:536: FitFailedWarning: Estimator fit failed. The score on this train-test partition for these parameters will be set to nan. Details: \n",
            "ValueError: The number of classes has to be greater than one; got 1 class\n",
            "\n",
            "  FitFailedWarning)\n",
            "/usr/local/lib/python3.6/dist-packages/sklearn/model_selection/_validation.py:536: FitFailedWarning: Estimator fit failed. The score on this train-test partition for these parameters will be set to nan. Details: \n",
            "ValueError: The number of classes has to be greater than one; got 1 class\n",
            "\n",
            "  FitFailedWarning)\n",
            "/usr/local/lib/python3.6/dist-packages/sklearn/model_selection/_validation.py:536: FitFailedWarning: Estimator fit failed. The score on this train-test partition for these parameters will be set to nan. Details: \n",
            "ValueError: The number of classes has to be greater than one; got 1 class\n",
            "\n",
            "  FitFailedWarning)\n",
            "/usr/local/lib/python3.6/dist-packages/sklearn/model_selection/_validation.py:536: FitFailedWarning: Estimator fit failed. The score on this train-test partition for these parameters will be set to nan. Details: \n",
            "ValueError: The number of classes has to be greater than one; got 1 class\n",
            "\n",
            "  FitFailedWarning)\n",
            "/usr/local/lib/python3.6/dist-packages/sklearn/model_selection/_validation.py:536: FitFailedWarning: Estimator fit failed. The score on this train-test partition for these parameters will be set to nan. Details: \n",
            "ValueError: The number of classes has to be greater than one; got 1 class\n",
            "\n",
            "  FitFailedWarning)\n",
            "/usr/local/lib/python3.6/dist-packages/sklearn/model_selection/_validation.py:536: FitFailedWarning: Estimator fit failed. The score on this train-test partition for these parameters will be set to nan. Details: \n",
            "ValueError: The number of classes has to be greater than one; got 1 class\n",
            "\n",
            "  FitFailedWarning)\n",
            "/usr/local/lib/python3.6/dist-packages/sklearn/model_selection/_validation.py:536: FitFailedWarning: Estimator fit failed. The score on this train-test partition for these parameters will be set to nan. Details: \n",
            "ValueError: The number of classes has to be greater than one; got 1 class\n",
            "\n",
            "  FitFailedWarning)\n",
            "/usr/local/lib/python3.6/dist-packages/sklearn/metrics/_classification.py:1272: UndefinedMetricWarning: Precision is ill-defined and being set to 0.0 due to no predicted samples. Use `zero_division` parameter to control this behavior.\n",
            "  _warn_prf(average, modifier, msg_start, len(result))\n",
            "/usr/local/lib/python3.6/dist-packages/sklearn/metrics/_classification.py:1272: UndefinedMetricWarning: Precision is ill-defined and being set to 0.0 due to no predicted samples. Use `zero_division` parameter to control this behavior.\n",
            "  _warn_prf(average, modifier, msg_start, len(result))\n",
            "/usr/local/lib/python3.6/dist-packages/sklearn/metrics/_classification.py:1272: UndefinedMetricWarning: Precision is ill-defined and being set to 0.0 due to no predicted samples. Use `zero_division` parameter to control this behavior.\n",
            "  _warn_prf(average, modifier, msg_start, len(result))\n",
            "/usr/local/lib/python3.6/dist-packages/sklearn/metrics/_classification.py:1272: UndefinedMetricWarning: Precision is ill-defined and being set to 0.0 due to no predicted samples. Use `zero_division` parameter to control this behavior.\n",
            "  _warn_prf(average, modifier, msg_start, len(result))\n",
            "/usr/local/lib/python3.6/dist-packages/sklearn/metrics/_classification.py:1272: UndefinedMetricWarning: Precision is ill-defined and being set to 0.0 due to no predicted samples. Use `zero_division` parameter to control this behavior.\n",
            "  _warn_prf(average, modifier, msg_start, len(result))\n",
            "/usr/local/lib/python3.6/dist-packages/ipykernel_launcher.py:40: RuntimeWarning: invalid value encountered in double_scalars\n",
            "/usr/local/lib/python3.6/dist-packages/sklearn/metrics/_classification.py:1272: UndefinedMetricWarning: Precision is ill-defined and being set to 0.0 due to no predicted samples. Use `zero_division` parameter to control this behavior.\n",
            "  _warn_prf(average, modifier, msg_start, len(result))\n",
            "/usr/local/lib/python3.6/dist-packages/sklearn/metrics/_classification.py:1272: UndefinedMetricWarning: Precision is ill-defined and being set to 0.0 due to no predicted samples. Use `zero_division` parameter to control this behavior.\n",
            "  _warn_prf(average, modifier, msg_start, len(result))\n",
            "/usr/local/lib/python3.6/dist-packages/sklearn/metrics/_classification.py:1272: UndefinedMetricWarning: Precision is ill-defined and being set to 0.0 due to no predicted samples. Use `zero_division` parameter to control this behavior.\n",
            "  _warn_prf(average, modifier, msg_start, len(result))\n",
            "/usr/local/lib/python3.6/dist-packages/sklearn/metrics/_classification.py:1272: UndefinedMetricWarning: Precision is ill-defined and being set to 0.0 due to no predicted samples. Use `zero_division` parameter to control this behavior.\n",
            "  _warn_prf(average, modifier, msg_start, len(result))\n",
            "/usr/local/lib/python3.6/dist-packages/sklearn/metrics/_classification.py:1272: UndefinedMetricWarning: Precision is ill-defined and being set to 0.0 due to no predicted samples. Use `zero_division` parameter to control this behavior.\n",
            "  _warn_prf(average, modifier, msg_start, len(result))\n",
            "/usr/local/lib/python3.6/dist-packages/ipykernel_launcher.py:40: RuntimeWarning: invalid value encountered in double_scalars\n",
            "/usr/local/lib/python3.6/dist-packages/sklearn/metrics/_classification.py:1272: UndefinedMetricWarning: Precision is ill-defined and being set to 0.0 due to no predicted samples. Use `zero_division` parameter to control this behavior.\n",
            "  _warn_prf(average, modifier, msg_start, len(result))\n",
            "/usr/local/lib/python3.6/dist-packages/sklearn/metrics/_classification.py:1272: UndefinedMetricWarning: Precision is ill-defined and being set to 0.0 due to no predicted samples. Use `zero_division` parameter to control this behavior.\n",
            "  _warn_prf(average, modifier, msg_start, len(result))\n",
            "/usr/local/lib/python3.6/dist-packages/sklearn/metrics/_classification.py:1272: UndefinedMetricWarning: Precision is ill-defined and being set to 0.0 due to no predicted samples. Use `zero_division` parameter to control this behavior.\n",
            "  _warn_prf(average, modifier, msg_start, len(result))\n",
            "/usr/local/lib/python3.6/dist-packages/sklearn/metrics/_classification.py:1272: UndefinedMetricWarning: Precision is ill-defined and being set to 0.0 due to no predicted samples. Use `zero_division` parameter to control this behavior.\n",
            "  _warn_prf(average, modifier, msg_start, len(result))\n",
            "/usr/local/lib/python3.6/dist-packages/sklearn/metrics/_classification.py:1272: UndefinedMetricWarning: Precision is ill-defined and being set to 0.0 due to no predicted samples. Use `zero_division` parameter to control this behavior.\n",
            "  _warn_prf(average, modifier, msg_start, len(result))\n",
            "/usr/local/lib/python3.6/dist-packages/ipykernel_launcher.py:40: RuntimeWarning: invalid value encountered in double_scalars\n",
            "/usr/local/lib/python3.6/dist-packages/sklearn/metrics/_classification.py:1272: UndefinedMetricWarning: Precision is ill-defined and being set to 0.0 due to no predicted samples. Use `zero_division` parameter to control this behavior.\n",
            "  _warn_prf(average, modifier, msg_start, len(result))\n",
            "/usr/local/lib/python3.6/dist-packages/sklearn/metrics/_classification.py:1272: UndefinedMetricWarning: Precision is ill-defined and being set to 0.0 due to no predicted samples. Use `zero_division` parameter to control this behavior.\n",
            "  _warn_prf(average, modifier, msg_start, len(result))\n",
            "/usr/local/lib/python3.6/dist-packages/sklearn/metrics/_classification.py:1272: UndefinedMetricWarning: Precision is ill-defined and being set to 0.0 due to no predicted samples. Use `zero_division` parameter to control this behavior.\n",
            "  _warn_prf(average, modifier, msg_start, len(result))\n",
            "/usr/local/lib/python3.6/dist-packages/sklearn/metrics/_classification.py:1272: UndefinedMetricWarning: Precision is ill-defined and being set to 0.0 due to no predicted samples. Use `zero_division` parameter to control this behavior.\n",
            "  _warn_prf(average, modifier, msg_start, len(result))\n",
            "/usr/local/lib/python3.6/dist-packages/sklearn/metrics/_classification.py:1272: UndefinedMetricWarning: Precision is ill-defined and being set to 0.0 due to no predicted samples. Use `zero_division` parameter to control this behavior.\n",
            "  _warn_prf(average, modifier, msg_start, len(result))\n",
            "/usr/local/lib/python3.6/dist-packages/ipykernel_launcher.py:40: RuntimeWarning: invalid value encountered in double_scalars\n",
            "/usr/local/lib/python3.6/dist-packages/sklearn/metrics/_classification.py:1272: UndefinedMetricWarning: Precision is ill-defined and being set to 0.0 due to no predicted samples. Use `zero_division` parameter to control this behavior.\n",
            "  _warn_prf(average, modifier, msg_start, len(result))\n",
            "/usr/local/lib/python3.6/dist-packages/sklearn/metrics/_classification.py:1272: UndefinedMetricWarning: Precision is ill-defined and being set to 0.0 due to no predicted samples. Use `zero_division` parameter to control this behavior.\n",
            "  _warn_prf(average, modifier, msg_start, len(result))\n",
            "/usr/local/lib/python3.6/dist-packages/sklearn/metrics/_classification.py:1272: UndefinedMetricWarning: Precision is ill-defined and being set to 0.0 due to no predicted samples. Use `zero_division` parameter to control this behavior.\n",
            "  _warn_prf(average, modifier, msg_start, len(result))\n",
            "/usr/local/lib/python3.6/dist-packages/sklearn/metrics/_classification.py:1272: UndefinedMetricWarning: Precision is ill-defined and being set to 0.0 due to no predicted samples. Use `zero_division` parameter to control this behavior.\n",
            "  _warn_prf(average, modifier, msg_start, len(result))\n",
            "/usr/local/lib/python3.6/dist-packages/sklearn/metrics/_classification.py:1272: UndefinedMetricWarning: Precision is ill-defined and being set to 0.0 due to no predicted samples. Use `zero_division` parameter to control this behavior.\n",
            "  _warn_prf(average, modifier, msg_start, len(result))\n",
            "/usr/local/lib/python3.6/dist-packages/ipykernel_launcher.py:40: RuntimeWarning: invalid value encountered in double_scalars\n",
            "/usr/local/lib/python3.6/dist-packages/sklearn/metrics/_classification.py:1272: UndefinedMetricWarning: Precision is ill-defined and being set to 0.0 due to no predicted samples. Use `zero_division` parameter to control this behavior.\n",
            "  _warn_prf(average, modifier, msg_start, len(result))\n",
            "/usr/local/lib/python3.6/dist-packages/sklearn/metrics/_classification.py:1272: UndefinedMetricWarning: Precision is ill-defined and being set to 0.0 due to no predicted samples. Use `zero_division` parameter to control this behavior.\n",
            "  _warn_prf(average, modifier, msg_start, len(result))\n"
          ],
          "name": "stderr"
        },
        {
          "output_type": "execute_result",
          "data": {
            "text/plain": [
              "Don't know, ['social_score']                                                                                            (nan, nan, nan)\n",
              "Don't know, ['income', 'social_score']                                                                                  (nan, nan, nan)\n",
              "Don't know, ['income', 'Satisfaction with financial situation']                                                         (nan, nan, nan)\n",
              "Don't know, ['income', 'Satisfaction with financial situation', 'social_score']                                         (nan, nan, nan)\n",
              "Not too happy, ['social_score']                                                                                         (0.0, 0.0, nan)\n",
              "Not too happy, ['income', 'social_score']                                                                               (0.0, 0.0, nan)\n",
              "Not too happy, ['income', 'Satisfaction with financial situation']                                                      (0.0, 0.0, nan)\n",
              "Not too happy, ['income', 'Satisfaction with financial situation', 'social_score']                                      (0.0, 0.0, nan)\n",
              "Pretty happy, ['social_score']                                                        (0.5935676550092844, 0.9955216273388956, 0.743...\n",
              "Pretty happy, ['income', 'social_score']                                              (0.592547924757198, 0.9936909125189318, 0.7423...\n",
              "Pretty happy, ['income', 'Satisfaction with financial situation']                     (0.6141295748225528, 0.854467702469476, 0.7146...\n",
              "Pretty happy, ['income', 'Satisfaction with financial situation', 'social_score']     (0.6049841077736013, 0.9163463191982647, 0.728...\n",
              "Very happy, ['social_score']                                                                                            (0.0, 0.0, nan)\n",
              "Very happy, ['income', 'social_score']                                                (0.06666666666666667, 0.00039138943248532285, ...\n",
              "Very happy, ['income', 'Satisfaction with financial situation']                       (0.5133488733488732, 0.02662522543263881, 0.05...\n",
              "Very happy, ['income', 'Satisfaction with financial situation', 'social_score']       (0.47386877828054297, 0.022705959095967156, 0....\n",
              "dtype: object"
            ]
          },
          "metadata": {
            "tags": []
          },
          "execution_count": 52
        }
      ]
    },
    {
      "cell_type": "code",
      "metadata": {
        "id": "EK9qusEVodkg",
        "colab_type": "code",
        "colab": {
          "base_uri": "https://localhost:8080/",
          "height": 236
        },
        "outputId": "33bd62c8-60d0-4bad-b23c-d5fad8068100"
      },
      "source": [
        "for val in errs:\n",
        "  print(val[2])\n",
        "# the below are the f1 scores\n",
        "# they are ordered the same as the happiness and associated features above"
      ],
      "execution_count": 26,
      "outputs": [
        {
          "output_type": "stream",
          "text": [
            "nan\n",
            "nan\n",
            "nan\n",
            "nan\n",
            "0.02441505595116989\n",
            "0.024514811031664967\n",
            "0.7437082918052215\n",
            "0.7177672452193558\n",
            "0.7057036998964975\n",
            "nan\n",
            "0.012339676418811297\n",
            "0.10941931076880329\n"
          ],
          "name": "stdout"
        }
      ]
    },
    {
      "cell_type": "markdown",
      "metadata": {
        "id": "YVWq6C2W_qhR",
        "colab_type": "text"
      },
      "source": [
        "As expected, cutting the data down to include social_score caused issues with balance, which gave us nans. I'll return to the job and happiness data so we can have more variety in data."
      ]
    },
    {
      "cell_type": "code",
      "metadata": {
        "id": "vh65llKF_Za5",
        "colab_type": "code",
        "colab": {
          "base_uri": "https://localhost:8080/",
          "height": 732
        },
        "outputId": "3bf0989b-a087-4191-bdac-eda841ead3a9"
      },
      "source": [
        "# calculate estimate of test error for a given feature set\n",
        "from sklearn import svm\n",
        "y_train = df_happy_jobs['General happiness_x']\n",
        "def get_cv_error(features, clss):\n",
        "  # define pipeline\n",
        "  if len(features) == 1:\n",
        "    ct = make_column_transformer(\n",
        "        (StandardScaler(), [\"income\"]),\n",
        "        remainder=\"passthrough\"\n",
        "    )\n",
        "  if len(features) == 2:\n",
        "    ct = make_column_transformer(\n",
        "        (OneHotEncoder(handle_unknown='ignore'), [\"Satisfaction with financial situation\"]),\n",
        "        (StandardScaler(), [\"income\"]),\n",
        "        remainder=\"passthrough\"\n",
        "    )\n",
        "\n",
        "  pipeline = make_pipeline(\n",
        "      ct,\n",
        "            svm.SVC()\n",
        "  )\n",
        "\n",
        "  is_class = (y_train == clss)\n",
        "  # calculate errors from cross-validation\n",
        "  recall = cross_val_score(pipeline, df_happy_jobs[features],\n",
        "                is_class, cv=10, scoring=\"recall\").mean()\n",
        "  precision = cross_val_score(pipeline, df_happy_jobs[features],\n",
        "                is_class, cv=10, scoring=\"precision\").mean()\n",
        "  # calculate average of the cross-validation errors\n",
        "  return (precision, recall, 2 * (precision * recall) / (precision + recall))\n",
        "\n",
        "# calculate and store errors for different feature sets\n",
        "errs = pd.Series()\n",
        "classes = ['Not too happy','Pretty happy', 'Very happy']\n",
        "for clss in classes:\n",
        "  for features in [[\"income\"],\n",
        "                   [\"income\", \"Satisfaction with financial situation\"]]:\n",
        "    errs[clss + \", \" + str(features)] = get_cv_error(features, clss)\n",
        "\n",
        "errs"
      ],
      "execution_count": 0,
      "outputs": [
        {
          "output_type": "stream",
          "text": [
            "/usr/local/lib/python3.6/dist-packages/sklearn/metrics/_classification.py:1272: UndefinedMetricWarning: Precision is ill-defined and being set to 0.0 due to no predicted samples. Use `zero_division` parameter to control this behavior.\n",
            "  _warn_prf(average, modifier, msg_start, len(result))\n",
            "/usr/local/lib/python3.6/dist-packages/sklearn/metrics/_classification.py:1272: UndefinedMetricWarning: Precision is ill-defined and being set to 0.0 due to no predicted samples. Use `zero_division` parameter to control this behavior.\n",
            "  _warn_prf(average, modifier, msg_start, len(result))\n",
            "/usr/local/lib/python3.6/dist-packages/sklearn/metrics/_classification.py:1272: UndefinedMetricWarning: Precision is ill-defined and being set to 0.0 due to no predicted samples. Use `zero_division` parameter to control this behavior.\n",
            "  _warn_prf(average, modifier, msg_start, len(result))\n",
            "/usr/local/lib/python3.6/dist-packages/sklearn/metrics/_classification.py:1272: UndefinedMetricWarning: Precision is ill-defined and being set to 0.0 due to no predicted samples. Use `zero_division` parameter to control this behavior.\n",
            "  _warn_prf(average, modifier, msg_start, len(result))\n",
            "/usr/local/lib/python3.6/dist-packages/sklearn/metrics/_classification.py:1272: UndefinedMetricWarning: Precision is ill-defined and being set to 0.0 due to no predicted samples. Use `zero_division` parameter to control this behavior.\n",
            "  _warn_prf(average, modifier, msg_start, len(result))\n",
            "/usr/local/lib/python3.6/dist-packages/sklearn/metrics/_classification.py:1272: UndefinedMetricWarning: Precision is ill-defined and being set to 0.0 due to no predicted samples. Use `zero_division` parameter to control this behavior.\n",
            "  _warn_prf(average, modifier, msg_start, len(result))\n",
            "/usr/local/lib/python3.6/dist-packages/sklearn/metrics/_classification.py:1272: UndefinedMetricWarning: Precision is ill-defined and being set to 0.0 due to no predicted samples. Use `zero_division` parameter to control this behavior.\n",
            "  _warn_prf(average, modifier, msg_start, len(result))\n",
            "/usr/local/lib/python3.6/dist-packages/sklearn/metrics/_classification.py:1272: UndefinedMetricWarning: Precision is ill-defined and being set to 0.0 due to no predicted samples. Use `zero_division` parameter to control this behavior.\n",
            "  _warn_prf(average, modifier, msg_start, len(result))\n",
            "/usr/local/lib/python3.6/dist-packages/sklearn/metrics/_classification.py:1272: UndefinedMetricWarning: Precision is ill-defined and being set to 0.0 due to no predicted samples. Use `zero_division` parameter to control this behavior.\n",
            "  _warn_prf(average, modifier, msg_start, len(result))\n",
            "/usr/local/lib/python3.6/dist-packages/sklearn/metrics/_classification.py:1272: UndefinedMetricWarning: Precision is ill-defined and being set to 0.0 due to no predicted samples. Use `zero_division` parameter to control this behavior.\n",
            "  _warn_prf(average, modifier, msg_start, len(result))\n",
            "/usr/local/lib/python3.6/dist-packages/ipykernel_launcher.py:29: RuntimeWarning: invalid value encountered in double_scalars\n",
            "/usr/local/lib/python3.6/dist-packages/sklearn/metrics/_classification.py:1272: UndefinedMetricWarning: Precision is ill-defined and being set to 0.0 due to no predicted samples. Use `zero_division` parameter to control this behavior.\n",
            "  _warn_prf(average, modifier, msg_start, len(result))\n",
            "/usr/local/lib/python3.6/dist-packages/sklearn/metrics/_classification.py:1272: UndefinedMetricWarning: Precision is ill-defined and being set to 0.0 due to no predicted samples. Use `zero_division` parameter to control this behavior.\n",
            "  _warn_prf(average, modifier, msg_start, len(result))\n",
            "/usr/local/lib/python3.6/dist-packages/sklearn/metrics/_classification.py:1272: UndefinedMetricWarning: Precision is ill-defined and being set to 0.0 due to no predicted samples. Use `zero_division` parameter to control this behavior.\n",
            "  _warn_prf(average, modifier, msg_start, len(result))\n",
            "/usr/local/lib/python3.6/dist-packages/sklearn/metrics/_classification.py:1272: UndefinedMetricWarning: Precision is ill-defined and being set to 0.0 due to no predicted samples. Use `zero_division` parameter to control this behavior.\n",
            "  _warn_prf(average, modifier, msg_start, len(result))\n",
            "/usr/local/lib/python3.6/dist-packages/sklearn/metrics/_classification.py:1272: UndefinedMetricWarning: Precision is ill-defined and being set to 0.0 due to no predicted samples. Use `zero_division` parameter to control this behavior.\n",
            "  _warn_prf(average, modifier, msg_start, len(result))\n",
            "/usr/local/lib/python3.6/dist-packages/sklearn/metrics/_classification.py:1272: UndefinedMetricWarning: Precision is ill-defined and being set to 0.0 due to no predicted samples. Use `zero_division` parameter to control this behavior.\n",
            "  _warn_prf(average, modifier, msg_start, len(result))\n",
            "/usr/local/lib/python3.6/dist-packages/sklearn/metrics/_classification.py:1272: UndefinedMetricWarning: Precision is ill-defined and being set to 0.0 due to no predicted samples. Use `zero_division` parameter to control this behavior.\n",
            "  _warn_prf(average, modifier, msg_start, len(result))\n",
            "/usr/local/lib/python3.6/dist-packages/sklearn/metrics/_classification.py:1272: UndefinedMetricWarning: Precision is ill-defined and being set to 0.0 due to no predicted samples. Use `zero_division` parameter to control this behavior.\n",
            "  _warn_prf(average, modifier, msg_start, len(result))\n",
            "/usr/local/lib/python3.6/dist-packages/sklearn/metrics/_classification.py:1272: UndefinedMetricWarning: Precision is ill-defined and being set to 0.0 due to no predicted samples. Use `zero_division` parameter to control this behavior.\n",
            "  _warn_prf(average, modifier, msg_start, len(result))\n",
            "/usr/local/lib/python3.6/dist-packages/sklearn/metrics/_classification.py:1272: UndefinedMetricWarning: Precision is ill-defined and being set to 0.0 due to no predicted samples. Use `zero_division` parameter to control this behavior.\n",
            "  _warn_prf(average, modifier, msg_start, len(result))\n",
            "/usr/local/lib/python3.6/dist-packages/ipykernel_launcher.py:29: RuntimeWarning: invalid value encountered in double_scalars\n"
          ],
          "name": "stderr"
        }
      ]
    },
    {
      "cell_type": "markdown",
      "metadata": {
        "id": "U3eS3MobajY5",
        "colab_type": "text"
      },
      "source": [
        "I had HUGE issues with svm.SVC. I was getting UndefinedMetricWarning and zero division left and right. I had to stop it because it was running for over an hour. This was because of metrics being all 0, again because the data is uneven. I'll try RandomForestClassifier and see if that can get around it."
      ]
    },
    {
      "cell_type": "code",
      "metadata": {
        "id": "MfxbXtdjXWGS",
        "colab_type": "code",
        "colab": {}
      },
      "source": [
        "for val in errs:\n",
        "  print(val[2])"
      ],
      "execution_count": 0,
      "outputs": []
    },
    {
      "cell_type": "code",
      "metadata": {
        "id": "bIeOxb86J_IQ",
        "colab_type": "code",
        "colab": {
          "base_uri": "https://localhost:8080/",
          "height": 319
        },
        "outputId": "b4d65864-3846-4c65-9896-bb475e023e59"
      },
      "source": [
        "# calculate estimate of test error for a given feature set\n",
        "from sklearn.ensemble import RandomForestClassifier\n",
        "y_train = df_happy_jobs['General happiness_x']\n",
        "def get_cv_error(features, clss):\n",
        "  # define pipeline\n",
        "  if len(features) == 1:\n",
        "    ct = make_column_transformer(\n",
        "        (StandardScaler(), [\"income\"]),\n",
        "        remainder=\"passthrough\"\n",
        "    )\n",
        "  if len(features) == 2:\n",
        "    ct = make_column_transformer(\n",
        "        (OneHotEncoder(handle_unknown='ignore'), [\"Satisfaction with financial situation\"]),\n",
        "        (StandardScaler(), [\"income\"]),\n",
        "        remainder=\"passthrough\"\n",
        "    )\n",
        "\n",
        "  pipeline = make_pipeline(\n",
        "      ct,\n",
        "      RandomForestClassifier()\n",
        "  )\n",
        "\n",
        "  is_class = (y_train == clss)\n",
        "  # calculate errors from cross-validation\n",
        "  recall = cross_val_score(pipeline, df_happy_jobs[features],\n",
        "                is_class, cv=10, scoring=\"recall\").mean()\n",
        "  precision = cross_val_score(pipeline, df_happy_jobs[features],\n",
        "                is_class, cv=10, scoring=\"precision\").mean()\n",
        "  # calculate average of the cross-validation errors\n",
        "  return (precision, recall, 2 * (precision * recall) / (precision + recall))\n",
        "\n",
        "# calculate and store errors for different feature sets\n",
        "errs = pd.Series()\n",
        "classes = ['Not too happy','Pretty happy', 'Very happy']\n",
        "for clss in classes:\n",
        "  for features in [[\"income\"],\n",
        "                   [\"income\", \"Satisfaction with financial situation\"]]:\n",
        "    errs[clss + \", \" + str(features)] = get_cv_error(features, clss)\n",
        "\n",
        "errs"
      ],
      "execution_count": 10,
      "outputs": [
        {
          "output_type": "stream",
          "text": [
            "/usr/local/lib/python3.6/dist-packages/sklearn/metrics/_classification.py:1272: UndefinedMetricWarning: Precision is ill-defined and being set to 0.0 due to no predicted samples. Use `zero_division` parameter to control this behavior.\n",
            "  _warn_prf(average, modifier, msg_start, len(result))\n",
            "/usr/local/lib/python3.6/dist-packages/sklearn/metrics/_classification.py:1272: UndefinedMetricWarning: Precision is ill-defined and being set to 0.0 due to no predicted samples. Use `zero_division` parameter to control this behavior.\n",
            "  _warn_prf(average, modifier, msg_start, len(result))\n",
            "/usr/local/lib/python3.6/dist-packages/sklearn/metrics/_classification.py:1272: UndefinedMetricWarning: Precision is ill-defined and being set to 0.0 due to no predicted samples. Use `zero_division` parameter to control this behavior.\n",
            "  _warn_prf(average, modifier, msg_start, len(result))\n",
            "/usr/local/lib/python3.6/dist-packages/sklearn/metrics/_classification.py:1272: UndefinedMetricWarning: Precision is ill-defined and being set to 0.0 due to no predicted samples. Use `zero_division` parameter to control this behavior.\n",
            "  _warn_prf(average, modifier, msg_start, len(result))\n",
            "/usr/local/lib/python3.6/dist-packages/sklearn/metrics/_classification.py:1272: UndefinedMetricWarning: Precision is ill-defined and being set to 0.0 due to no predicted samples. Use `zero_division` parameter to control this behavior.\n",
            "  _warn_prf(average, modifier, msg_start, len(result))\n"
          ],
          "name": "stderr"
        },
        {
          "output_type": "execute_result",
          "data": {
            "text/plain": [
              "Not too happy, ['income']                                             (0.042131247197200725, 0.1047298128579826, 0.0...\n",
              "Not too happy, ['income', 'Satisfaction with financial situation']    (0.15275698237124052, 0.08723428977622244, 0.1...\n",
              "Pretty happy, ['income']                                              (0.5653308608153542, 0.7604959620909157, 0.648...\n",
              "Pretty happy, ['income', 'Satisfaction with financial situation']     (0.5766200025337027, 0.6910342664629766, 0.628...\n",
              "Very happy, ['income']                                                (0.2758813348224719, 0.13857551123766804, 0.18...\n",
              "Very happy, ['income', 'Satisfaction with financial situation']       (0.33137346904234866, 0.222111858164385, 0.265...\n",
              "dtype: object"
            ]
          },
          "metadata": {
            "tags": []
          },
          "execution_count": 10
        }
      ]
    },
    {
      "cell_type": "code",
      "metadata": {
        "id": "Bz5nmaMcqLT8",
        "colab_type": "code",
        "colab": {
          "base_uri": "https://localhost:8080/",
          "height": 137
        },
        "outputId": "7966eaaa-d167-471d-b32e-c4e92df1530f"
      },
      "source": [
        "for val in errs:\n",
        "  print(val[2])\n",
        "\n",
        "# the below are the f1 scores\n",
        "# they are ordered the same as the happiness and associated features above"
      ],
      "execution_count": 11,
      "outputs": [
        {
          "output_type": "stream",
          "text": [
            "0.060089415571129186\n",
            "0.11105109570256486\n",
            "0.6485490102742516\n",
            "0.6286638087751365\n",
            "0.18448433113061366\n",
            "0.2659581865586948\n"
          ],
          "name": "stdout"
        }
      ]
    },
    {
      "cell_type": "markdown",
      "metadata": {
        "id": "gCu-RrfXjZ5s",
        "colab_type": "text"
      },
      "source": [
        "The best performing model was RandomForestClassifier with income and satisfaction with financial situation. Adding other features cut the data down too much and caused issues with prediction run time. F1 score never got very good, but this model has an F1 score for predicting pretty happy of .62, which isn't horrible considering how hard it is to tell if someone really is \"happy\"."
      ]
    }
  ]
}